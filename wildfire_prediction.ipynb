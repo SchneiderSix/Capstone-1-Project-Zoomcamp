{
  "cells": [
    {
      "cell_type": "markdown",
      "metadata": {
        "id": "view-in-github",
        "colab_type": "text"
      },
      "source": [
        "<a href=\"https://colab.research.google.com/github/SchneiderSix/Capstone-1-Project-Zoomcamp/blob/main/wildfire_prediction.ipynb\" target=\"_parent\"><img src=\"https://colab.research.google.com/assets/colab-badge.svg\" alt=\"Open In Colab\"/></a>"
      ]
    },
    {
      "cell_type": "markdown",
      "metadata": {
        "id": "grsjlH139k_H"
      },
      "source": [
        "##Imports"
      ]
    },
    {
      "cell_type": "code",
      "execution_count": 1,
      "metadata": {
        "id": "t-DEv5Av9pUu"
      },
      "outputs": [],
      "source": [
        "import numpy as np\n",
        "import pandas as pd\n",
        "import matplotlib.pyplot as plt\n",
        "import seaborn as sns\n",
        "import tensorflow as tf\n",
        "import tensorflow.keras as ks\n",
        "import sklearn as sk"
      ]
    },
    {
      "cell_type": "markdown",
      "metadata": {
        "id": "BjJCw4gi9S35"
      },
      "source": [
        "##Get data from kaggle"
      ]
    },
    {
      "cell_type": "code",
      "execution_count": 2,
      "metadata": {
        "colab": {
          "base_uri": "https://localhost:8080/"
        },
        "id": "hy01Me9T9Reg",
        "outputId": "d9ce225f-ad1c-468e-a911-d8c9259c5217"
      },
      "outputs": [
        {
          "output_type": "stream",
          "name": "stdout",
          "text": [
            "Mounted at /content/drive\n"
          ]
        }
      ],
      "source": [
        "from google.colab import drive\n",
        "drive.mount('/content/drive')"
      ]
    },
    {
      "cell_type": "code",
      "execution_count": 3,
      "metadata": {
        "id": "bFF0_5vf90jF"
      },
      "outputs": [],
      "source": [
        "!mkdir ~/.kaggle"
      ]
    },
    {
      "cell_type": "code",
      "execution_count": 4,
      "metadata": {
        "id": "7TbJ_5LU-KVH"
      },
      "outputs": [],
      "source": [
        "!cp /content/drive/MyDrive/kaggle.json ~/.kaggle/kaggle.json"
      ]
    },
    {
      "cell_type": "code",
      "execution_count": 5,
      "metadata": {
        "id": "fhQzdDq2-N1w"
      },
      "outputs": [],
      "source": [
        "# Read and write permission\n",
        "!chmod 600 ~/.kaggle/kaggle.json"
      ]
    },
    {
      "cell_type": "markdown",
      "metadata": {
        "id": "KV2CevAd-ZpW"
      },
      "source": [
        "##Getting dataset from kaggle"
      ]
    },
    {
      "cell_type": "code",
      "execution_count": 6,
      "metadata": {
        "colab": {
          "base_uri": "https://localhost:8080/"
        },
        "id": "H2dyAJvz-Ysd",
        "outputId": "6ccd667c-2745-4077-c82a-eed44768e981"
      },
      "outputs": [
        {
          "output_type": "stream",
          "name": "stdout",
          "text": [
            "ref                                                         title                                             size  lastUpdated          downloadCount  voteCount  usabilityRating  \n",
            "----------------------------------------------------------  -----------------------------------------------  -----  -------------------  -------------  ---------  ---------------  \n",
            "bhadramohit/customer-shopping-latest-trends-dataset         Customer Shopping (Latest Trends) Dataset         76KB  2024-11-23 15:26:12          19182        377  1.0              \n",
            "hopesb/student-depression-dataset                           Student Depression Dataset.                      454KB  2024-11-22 17:56:03          15699        222  1.0              \n",
            "oktayrdeki/houses-in-london                                 Houses in London                                  21KB  2024-12-15 19:27:42           1429         27  1.0              \n",
            "mhassansaboor/intel-stock-data-1980-2024                    Intel Stock Data (1980-2024)                     281KB  2024-12-25 16:12:36            664         24  1.0              \n",
            "govindaramsriram/sleep-time-prediction                      Sleep Time Prediction                             28KB  2024-12-28 17:08:56            885         25  1.0              \n",
            "michaellanurias/spotify-playlist-origins                    Spotify Playlist-ORIGINS                          25KB  2024-12-15 01:16:34            909         22  1.0              \n",
            "kanchana1990/global-adult-hiv-prevalance-data-2024-updated  Global Adult HIV Prevalance Data (2024 Updated)    3KB  2024-12-28 17:32:21            324         24  1.0              \n",
            "bushraqurban/world-health-indicators-dataset                🏥 Global Health Indicators Dataset 📊             186KB  2024-12-22 02:35:39            898         26  1.0              \n",
            "taimoor888/top-100-youtube-channels-in-2024                 Top 100 YouTube Channels in 2024                   3KB  2024-12-15 16:09:25           1185         34  1.0              \n",
            "sezginfurkan/geophone-sensor-dataset                        Geophone Sensor Dataset                           74KB  2024-12-26 18:23:21            323         22  1.0              \n",
            "denkuznetz/food-delivery-time-prediction                    Food Delivery Time Prediction 🛵                   12KB  2024-12-23 13:12:14           1113         35  1.0              \n",
            "mujtabamatin/air-quality-and-pollution-assessment           Air Quality and Pollution Assessment              84KB  2024-12-04 15:29:51           7410        115  1.0              \n",
            "bushraqurban/tourism-and-economic-impact                    ✈️ Tourism and Economic Impact Dataset💰          270KB  2024-12-22 08:47:37           1306         34  1.0              \n",
            "kanchana1990/world-internet-usage-data-2023-updated         World Internet Usage Data (2023 Updated)           4KB  2024-12-21 09:41:41            644         43  1.0              \n",
            "rahmasleam/breast-cancer                                    Breast Cancer                                     49KB  2024-12-10 08:44:26           1338         33  1.0              \n",
            "anandshaw2001/chatgpt-users-reviews                         ChatGPT Users Reviews                              9MB  2024-12-26 10:14:42            380         25  1.0              \n",
            "gauthamvijayaraj/spotify-tracks-dataset-updated-every-week  Spotify Tracks Dataset (Updated every week)        5MB  2024-12-09 18:00:01           3193         62  1.0              \n",
            "dansbecker/melbourne-housing-snapshot                       Melbourne Housing Snapshot                       451KB  2018-06-05 12:52:24         167140       1557  0.7058824        \n",
            "denkuznetz/traffic-accident-prediction                      Traffic Accident Prediction 💥🚗                    10KB  2024-12-11 11:04:47           2451         44  1.0              \n",
            "steve1215rogg/e-commerce-dataset                            E-Commerce Dataset                                90KB  2024-11-22 22:10:02           6561         78  1.0              \n"
          ]
        }
      ],
      "source": [
        "!kaggle datasets list"
      ]
    },
    {
      "cell_type": "code",
      "execution_count": 7,
      "metadata": {
        "colab": {
          "base_uri": "https://localhost:8080/"
        },
        "id": "irLBWVap-iq6",
        "outputId": "22511a3c-2873-4e10-d86e-c3e2c9b4a2a8"
      },
      "outputs": [
        {
          "output_type": "stream",
          "name": "stdout",
          "text": [
            "Dataset URL: https://www.kaggle.com/datasets/abdelghaniaaba/wildfire-prediction-dataset\n",
            "License(s): other\n",
            "Downloading wildfire-prediction-dataset.zip to /content\n",
            " 98% 1.42G/1.45G [00:09<00:00, 211MB/s]\n",
            "100% 1.45G/1.45G [00:09<00:00, 168MB/s]\n"
          ]
        }
      ],
      "source": [
        "!kaggle datasets download abdelghaniaaba/wildfire-prediction-dataset"
      ]
    },
    {
      "cell_type": "code",
      "execution_count": 8,
      "metadata": {
        "id": "ebnWLqxT-t0O"
      },
      "outputs": [],
      "source": [
        "!unzip -q /content/wildfire-prediction-dataset -d /content/datasets"
      ]
    },
    {
      "cell_type": "markdown",
      "metadata": {
        "id": "Hpt6uf5SA-rI"
      },
      "source": [
        "##Process images"
      ]
    },
    {
      "cell_type": "code",
      "execution_count": 9,
      "metadata": {
        "id": "CXphU080AbOY"
      },
      "outputs": [],
      "source": [
        "from tensorflow.keras.preprocessing.image import ImageDataGenerator\n",
        "from tensorflow.keras.applications.xception import preprocess_input, decode_predictions"
      ]
    },
    {
      "cell_type": "code",
      "execution_count": 10,
      "metadata": {
        "colab": {
          "base_uri": "https://localhost:8080/"
        },
        "id": "QXssoiWBBM3q",
        "outputId": "82b1fb7b-fb5f-4981-907a-af0cab3c9fe2"
      },
      "outputs": [
        {
          "output_type": "stream",
          "name": "stdout",
          "text": [
            "Found 30250 images belonging to 2 classes.\n"
          ]
        }
      ],
      "source": [
        "train_gen = ImageDataGenerator(\n",
        "    preprocessing_function=preprocess_input\n",
        ")\n",
        "\n",
        "train_ds = train_gen.flow_from_directory(\n",
        "    '/content/datasets/train',\n",
        "    target_size=(350, 350),\n",
        "    batch_size=32\n",
        ")"
      ]
    },
    {
      "cell_type": "code",
      "execution_count": 11,
      "metadata": {
        "colab": {
          "base_uri": "https://localhost:8080/"
        },
        "id": "wk0h6-evDFm3",
        "outputId": "b67d48e5-cd37-48c5-db45-1792562c5bf7"
      },
      "outputs": [
        {
          "output_type": "execute_result",
          "data": {
            "text/plain": [
              "{'nowildfire': 0, 'wildfire': 1}"
            ]
          },
          "metadata": {},
          "execution_count": 11
        }
      ],
      "source": [
        "train_ds.class_indices"
      ]
    },
    {
      "cell_type": "code",
      "execution_count": 12,
      "metadata": {
        "colab": {
          "base_uri": "https://localhost:8080/"
        },
        "id": "zoQDpRb3DKcP",
        "outputId": "80ebc34f-fdbe-43de-ef2f-768074c0e32e"
      },
      "outputs": [
        {
          "output_type": "stream",
          "name": "stdout",
          "text": [
            "Found 6300 images belonging to 2 classes.\n"
          ]
        }
      ],
      "source": [
        "val_gen = ImageDataGenerator(\n",
        "    preprocessing_function=preprocess_input\n",
        ")\n",
        "\n",
        "val_ds = val_gen.flow_from_directory(\n",
        "    '/content/datasets/valid',\n",
        "    target_size=(350, 350),\n",
        "    batch_size=32,\n",
        "    shuffle=False\n",
        ")"
      ]
    },
    {
      "cell_type": "markdown",
      "metadata": {
        "id": "q8FWdioQEAX3"
      },
      "source": [
        "##Define model"
      ]
    },
    {
      "cell_type": "code",
      "execution_count": 13,
      "metadata": {
        "id": "nWycDXAQEkS3"
      },
      "outputs": [],
      "source": [
        "from keras.applications.xception import Xception"
      ]
    },
    {
      "cell_type": "code",
      "execution_count": null,
      "metadata": {
        "id": "sFFmYQ19DfqZ"
      },
      "outputs": [],
      "source": [
        "def create_model(learning_rate=0.01):\n",
        "  base_model = Xception(\n",
        "      weights='imagenet',\n",
        "      include_top=False,\n",
        "      input_shape=(350, 350, 3)\n",
        "  )\n",
        "  base_model.trainable = False\n",
        "\n",
        "  inputs = ks.Input(\n",
        "      shape=(350,350,3)\n",
        "  )\n",
        "\n",
        "  base = base_model(inputs, training=False)\n",
        "\n",
        "  vectors = ks.layers.GlobalAveragePooling2D()(base)\n",
        "  # 2 classes\n",
        "  outputs = ks.layers.Dense(2)(vectors)\n",
        "\n",
        "  model = ks.Model(inputs, outputs)\n",
        "\n",
        "  optimizer = ks.optimizers.Adam(learning_rate=learning_rate)\n",
        "\n",
        "  loss = ks.losses.CategoricalCrossentropy(\n",
        "      from_logits=True\n",
        "  )\n",
        "\n",
        "  model.compile(\n",
        "      optimizer=optimizer,\n",
        "      loss=loss,\n",
        "      metrics=['accuracy']\n",
        "  )\n",
        "\n",
        "  return model"
      ]
    },
    {
      "cell_type": "markdown",
      "metadata": {
        "id": "rFKe22gtHVlJ"
      },
      "source": [
        "##Find best learning rate for Adam optimizer"
      ]
    },
    {
      "cell_type": "code",
      "execution_count": null,
      "metadata": {
        "colab": {
          "base_uri": "https://localhost:8080/"
        },
        "id": "HYEIYijhFrvq",
        "outputId": "1165ccc3-c46e-4b1a-b89c-49ac4b8fd2e6"
      },
      "outputs": [
        {
          "name": "stdout",
          "output_type": "stream",
          "text": [
            "0.0001\n",
            "Epoch 1/15\n",
            "\u001b[1m946/946\u001b[0m \u001b[32m━━━━━━━━━━━━━━━━━━━━\u001b[0m\u001b[37m\u001b[0m \u001b[1m0s\u001b[0m 281ms/step - accuracy: 0.8512 - loss: 0.3730"
          ]
        },
        {
          "name": "stderr",
          "output_type": "stream",
          "text": [
            "/usr/local/lib/python3.10/dist-packages/keras/src/trainers/data_adapters/py_dataset_adapter.py:122: UserWarning: Your `PyDataset` class should call `super().__init__(**kwargs)` in its constructor. `**kwargs` can include `workers`, `use_multiprocessing`, `max_queue_size`. Do not pass these arguments to `fit()`, as they will be ignored.\n",
            "  self._warn_if_super_not_called()\n"
          ]
        },
        {
          "name": "stdout",
          "output_type": "stream",
          "text": [
            "\b\b\b\b\b\b\b\b\b\b\b\b\b\b\b\b\b\b\b\b\b\b\b\b\b\b\b\b\b\b\b\b\b\b\b\b\b\b\b\b\b\b\b\b\b\b\b\b\b\b\b\b\b\b\b\b\b\b\b\b\b\b\b\b\b\b\b\b\b\b\b\b\b\b\b\b\r\u001b[1m946/946\u001b[0m \u001b[32m━━━━━━━━━━━━━━━━━━━━\u001b[0m\u001b[37m\u001b[0m \u001b[1m378s\u001b[0m 393ms/step - accuracy: 0.8513 - loss: 0.3729 - val_accuracy: 0.9351 - val_loss: 0.1833\n",
            "Epoch 2/15\n",
            "\u001b[1m946/946\u001b[0m \u001b[32m━━━━━━━━━━━━━━━━━━━━\u001b[0m\u001b[37m\u001b[0m \u001b[1m336s\u001b[0m 347ms/step - accuracy: 0.9361 - loss: 0.1721 - val_accuracy: 0.9451 - val_loss: 0.1530\n",
            "Epoch 3/15\n",
            "\u001b[1m946/946\u001b[0m \u001b[32m━━━━━━━━━━━━━━━━━━━━\u001b[0m\u001b[37m\u001b[0m \u001b[1m382s\u001b[0m 347ms/step - accuracy: 0.9422 - loss: 0.1536 - val_accuracy: 0.9473 - val_loss: 0.1421\n",
            "Epoch 4/15\n",
            "\u001b[1m946/946\u001b[0m \u001b[32m━━━━━━━━━━━━━━━━━━━━\u001b[0m\u001b[37m\u001b[0m \u001b[1m329s\u001b[0m 346ms/step - accuracy: 0.9480 - loss: 0.1409 - val_accuracy: 0.9490 - val_loss: 0.1359\n",
            "Epoch 5/15\n",
            "\u001b[1m946/946\u001b[0m \u001b[32m━━━━━━━━━━━━━━━━━━━━\u001b[0m\u001b[37m\u001b[0m \u001b[1m354s\u001b[0m 373ms/step - accuracy: 0.9494 - loss: 0.1340 - val_accuracy: 0.9541 - val_loss: 0.1270\n",
            "Epoch 6/15\n",
            "\u001b[1m946/946\u001b[0m \u001b[32m━━━━━━━━━━━━━━━━━━━━\u001b[0m\u001b[37m\u001b[0m \u001b[1m357s\u001b[0m 347ms/step - accuracy: 0.9514 - loss: 0.1285 - val_accuracy: 0.9554 - val_loss: 0.1203\n",
            "Epoch 7/15\n",
            "\u001b[1m946/946\u001b[0m \u001b[32m━━━━━━━━━━━━━━━━━━━━\u001b[0m\u001b[37m\u001b[0m \u001b[1m382s\u001b[0m 347ms/step - accuracy: 0.9538 - loss: 0.1228 - val_accuracy: 0.9567 - val_loss: 0.1175\n",
            "Epoch 8/15\n",
            "\u001b[1m946/946\u001b[0m \u001b[32m━━━━━━━━━━━━━━━━━━━━\u001b[0m\u001b[37m\u001b[0m \u001b[1m328s\u001b[0m 346ms/step - accuracy: 0.9552 - loss: 0.1224 - val_accuracy: 0.9556 - val_loss: 0.1187\n",
            "Epoch 9/15\n",
            "\u001b[1m946/946\u001b[0m \u001b[32m━━━━━━━━━━━━━━━━━━━━\u001b[0m\u001b[37m\u001b[0m \u001b[1m329s\u001b[0m 346ms/step - accuracy: 0.9570 - loss: 0.1203 - val_accuracy: 0.9584 - val_loss: 0.1141\n",
            "Epoch 10/15\n",
            "\u001b[1m946/946\u001b[0m \u001b[32m━━━━━━━━━━━━━━━━━━━━\u001b[0m\u001b[37m\u001b[0m \u001b[1m382s\u001b[0m 347ms/step - accuracy: 0.9568 - loss: 0.1164 - val_accuracy: 0.9568 - val_loss: 0.1164\n",
            "Epoch 11/15\n",
            "\u001b[1m946/946\u001b[0m \u001b[32m━━━━━━━━━━━━━━━━━━━━\u001b[0m\u001b[37m\u001b[0m \u001b[1m381s\u001b[0m 346ms/step - accuracy: 0.9580 - loss: 0.1142 - val_accuracy: 0.9603 - val_loss: 0.1095\n",
            "Epoch 12/15\n",
            "\u001b[1m946/946\u001b[0m \u001b[32m━━━━━━━━━━━━━━━━━━━━\u001b[0m\u001b[37m\u001b[0m \u001b[1m382s\u001b[0m 346ms/step - accuracy: 0.9601 - loss: 0.1108 - val_accuracy: 0.9597 - val_loss: 0.1097\n",
            "Epoch 13/15\n",
            "\u001b[1m946/946\u001b[0m \u001b[32m━━━━━━━━━━━━━━━━━━━━\u001b[0m\u001b[37m\u001b[0m \u001b[1m383s\u001b[0m 346ms/step - accuracy: 0.9583 - loss: 0.1113 - val_accuracy: 0.9587 - val_loss: 0.1107\n",
            "Epoch 14/15\n",
            "\u001b[1m946/946\u001b[0m \u001b[32m━━━━━━━━━━━━━━━━━━━━\u001b[0m\u001b[37m\u001b[0m \u001b[1m354s\u001b[0m 373ms/step - accuracy: 0.9587 - loss: 0.1117 - val_accuracy: 0.9586 - val_loss: 0.1104\n",
            "Epoch 15/15\n",
            "\u001b[1m946/946\u001b[0m \u001b[32m━━━━━━━━━━━━━━━━━━━━\u001b[0m\u001b[37m\u001b[0m \u001b[1m328s\u001b[0m 346ms/step - accuracy: 0.9598 - loss: 0.1095 - val_accuracy: 0.9619 - val_loss: 0.1054\n",
            "##########\n",
            "0.001\n",
            "Epoch 1/15\n",
            "\u001b[1m946/946\u001b[0m \u001b[32m━━━━━━━━━━━━━━━━━━━━\u001b[0m\u001b[37m\u001b[0m \u001b[1m363s\u001b[0m 377ms/step - accuracy: 0.9249 - loss: 0.1949 - val_accuracy: 0.9568 - val_loss: 0.1170\n",
            "Epoch 2/15\n",
            "\u001b[1m946/946\u001b[0m \u001b[32m━━━━━━━━━━━━━━━━━━━━\u001b[0m\u001b[37m\u001b[0m \u001b[1m330s\u001b[0m 347ms/step - accuracy: 0.9555 - loss: 0.1223 - val_accuracy: 0.9625 - val_loss: 0.1018\n",
            "Epoch 3/15\n",
            "\u001b[1m946/946\u001b[0m \u001b[32m━━━━━━━━━━━━━━━━━━━━\u001b[0m\u001b[37m\u001b[0m \u001b[1m329s\u001b[0m 346ms/step - accuracy: 0.9592 - loss: 0.1119 - val_accuracy: 0.9641 - val_loss: 0.0956\n",
            "Epoch 4/15\n",
            "\u001b[1m946/946\u001b[0m \u001b[32m━━━━━━━━━━━━━━━━━━━━\u001b[0m\u001b[37m\u001b[0m \u001b[1m354s\u001b[0m 373ms/step - accuracy: 0.9616 - loss: 0.1013 - val_accuracy: 0.9603 - val_loss: 0.1021\n",
            "Epoch 5/15\n",
            "\u001b[1m946/946\u001b[0m \u001b[32m━━━━━━━━━━━━━━━━━━━━\u001b[0m\u001b[37m\u001b[0m \u001b[1m329s\u001b[0m 347ms/step - accuracy: 0.9652 - loss: 0.0940 - val_accuracy: 0.9640 - val_loss: 0.0940\n",
            "Epoch 6/15\n",
            "\u001b[1m946/946\u001b[0m \u001b[32m━━━━━━━━━━━━━━━━━━━━\u001b[0m\u001b[37m\u001b[0m \u001b[1m382s\u001b[0m 347ms/step - accuracy: 0.9652 - loss: 0.0935 - val_accuracy: 0.9594 - val_loss: 0.1017\n",
            "Epoch 7/15\n",
            "\u001b[1m946/946\u001b[0m \u001b[32m━━━━━━━━━━━━━━━━━━━━\u001b[0m\u001b[37m\u001b[0m \u001b[1m328s\u001b[0m 346ms/step - accuracy: 0.9667 - loss: 0.0870 - val_accuracy: 0.9676 - val_loss: 0.0892\n",
            "Epoch 8/15\n",
            "\u001b[1m946/946\u001b[0m \u001b[32m━━━━━━━━━━━━━━━━━━━━\u001b[0m\u001b[37m\u001b[0m \u001b[1m329s\u001b[0m 347ms/step - accuracy: 0.9674 - loss: 0.0876 - val_accuracy: 0.9654 - val_loss: 0.0911\n",
            "Epoch 9/15\n",
            "\u001b[1m946/946\u001b[0m \u001b[32m━━━━━━━━━━━━━━━━━━━━\u001b[0m\u001b[37m\u001b[0m \u001b[1m329s\u001b[0m 346ms/step - accuracy: 0.9696 - loss: 0.0829 - val_accuracy: 0.9675 - val_loss: 0.0883\n",
            "Epoch 10/15\n",
            "\u001b[1m946/946\u001b[0m \u001b[32m━━━━━━━━━━━━━━━━━━━━\u001b[0m\u001b[37m\u001b[0m \u001b[1m383s\u001b[0m 347ms/step - accuracy: 0.9695 - loss: 0.0817 - val_accuracy: 0.9613 - val_loss: 0.1006\n",
            "Epoch 11/15\n",
            "\u001b[1m946/946\u001b[0m \u001b[32m━━━━━━━━━━━━━━━━━━━━\u001b[0m\u001b[37m\u001b[0m \u001b[1m381s\u001b[0m 347ms/step - accuracy: 0.9719 - loss: 0.0759 - val_accuracy: 0.9667 - val_loss: 0.0874\n",
            "Epoch 12/15\n",
            "\u001b[1m946/946\u001b[0m \u001b[32m━━━━━━━━━━━━━━━━━━━━\u001b[0m\u001b[37m\u001b[0m \u001b[1m329s\u001b[0m 346ms/step - accuracy: 0.9705 - loss: 0.0775 - val_accuracy: 0.9667 - val_loss: 0.0877\n",
            "Epoch 13/15\n",
            "\u001b[1m946/946\u001b[0m \u001b[32m━━━━━━━━━━━━━━━━━━━━\u001b[0m\u001b[37m\u001b[0m \u001b[1m380s\u001b[0m 345ms/step - accuracy: 0.9731 - loss: 0.0715 - val_accuracy: 0.9629 - val_loss: 0.0938\n",
            "Epoch 14/15\n",
            "\u001b[1m946/946\u001b[0m \u001b[32m━━━━━━━━━━━━━━━━━━━━\u001b[0m\u001b[37m\u001b[0m \u001b[1m329s\u001b[0m 346ms/step - accuracy: 0.9738 - loss: 0.0735 - val_accuracy: 0.9670 - val_loss: 0.0867\n",
            "Epoch 15/15\n",
            "\u001b[1m946/946\u001b[0m \u001b[32m━━━━━━━━━━━━━━━━━━━━\u001b[0m\u001b[37m\u001b[0m \u001b[1m328s\u001b[0m 346ms/step - accuracy: 0.9748 - loss: 0.0693 - val_accuracy: 0.9667 - val_loss: 0.0862\n",
            "##########\n",
            "0.01\n",
            "Epoch 1/15\n",
            "\u001b[1m946/946\u001b[0m \u001b[32m━━━━━━━━━━━━━━━━━━━━\u001b[0m\u001b[37m\u001b[0m \u001b[1m340s\u001b[0m 352ms/step - accuracy: 0.9274 - loss: 0.1946 - val_accuracy: 0.9543 - val_loss: 0.1460\n",
            "Epoch 2/15\n",
            "\u001b[1m946/946\u001b[0m \u001b[32m━━━━━━━━━━━━━━━━━━━━\u001b[0m\u001b[37m\u001b[0m \u001b[1m328s\u001b[0m 346ms/step - accuracy: 0.9556 - loss: 0.1257 - val_accuracy: 0.9502 - val_loss: 0.1484\n",
            "Epoch 3/15\n",
            "\u001b[1m946/946\u001b[0m \u001b[32m━━━━━━━━━━━━━━━━━━━━\u001b[0m\u001b[37m\u001b[0m \u001b[1m382s\u001b[0m 347ms/step - accuracy: 0.9592 - loss: 0.1157 - val_accuracy: 0.9548 - val_loss: 0.1422\n",
            "Epoch 4/15\n",
            "\u001b[1m946/946\u001b[0m \u001b[32m━━━━━━━━━━━━━━━━━━━━\u001b[0m\u001b[37m\u001b[0m \u001b[1m329s\u001b[0m 346ms/step - accuracy: 0.9643 - loss: 0.1051 - val_accuracy: 0.9497 - val_loss: 0.1628\n",
            "Epoch 5/15\n",
            "\u001b[1m946/946\u001b[0m \u001b[32m━━━━━━━━━━━━━━━━━━━━\u001b[0m\u001b[37m\u001b[0m \u001b[1m355s\u001b[0m 374ms/step - accuracy: 0.9600 - loss: 0.1207 - val_accuracy: 0.9544 - val_loss: 0.1607\n",
            "Epoch 6/15\n",
            "\u001b[1m946/946\u001b[0m \u001b[32m━━━━━━━━━━━━━━━━━━━━\u001b[0m\u001b[37m\u001b[0m \u001b[1m329s\u001b[0m 346ms/step - accuracy: 0.9678 - loss: 0.0938 - val_accuracy: 0.9673 - val_loss: 0.1153\n",
            "Epoch 7/15\n",
            "\u001b[1m946/946\u001b[0m \u001b[32m━━━━━━━━━━━━━━━━━━━━\u001b[0m\u001b[37m\u001b[0m \u001b[1m355s\u001b[0m 374ms/step - accuracy: 0.9697 - loss: 0.0939 - val_accuracy: 0.9575 - val_loss: 0.1615\n",
            "Epoch 8/15\n",
            "\u001b[1m946/946\u001b[0m \u001b[32m━━━━━━━━━━━━━━━━━━━━\u001b[0m\u001b[37m\u001b[0m \u001b[1m356s\u001b[0m 346ms/step - accuracy: 0.9684 - loss: 0.0990 - val_accuracy: 0.9575 - val_loss: 0.1662\n",
            "Epoch 9/15\n",
            "\u001b[1m946/946\u001b[0m \u001b[32m━━━━━━━━━━━━━━━━━━━━\u001b[0m\u001b[37m\u001b[0m \u001b[1m328s\u001b[0m 346ms/step - accuracy: 0.9700 - loss: 0.0926 - val_accuracy: 0.9565 - val_loss: 0.1686\n",
            "Epoch 10/15\n",
            "\u001b[1m946/946\u001b[0m \u001b[32m━━━━━━━━━━━━━━━━━━━━\u001b[0m\u001b[37m\u001b[0m \u001b[1m329s\u001b[0m 346ms/step - accuracy: 0.9694 - loss: 0.0917 - val_accuracy: 0.9654 - val_loss: 0.1310\n",
            "Epoch 11/15\n",
            "\u001b[1m946/946\u001b[0m \u001b[32m━━━━━━━━━━━━━━━━━━━━\u001b[0m\u001b[37m\u001b[0m \u001b[1m408s\u001b[0m 374ms/step - accuracy: 0.9716 - loss: 0.0852 - val_accuracy: 0.9630 - val_loss: 0.1441\n",
            "Epoch 12/15\n",
            "\u001b[1m946/946\u001b[0m \u001b[32m━━━━━━━━━━━━━━━━━━━━\u001b[0m\u001b[37m\u001b[0m \u001b[1m356s\u001b[0m 346ms/step - accuracy: 0.9730 - loss: 0.0844 - val_accuracy: 0.9638 - val_loss: 0.1552\n",
            "Epoch 13/15\n",
            "\u001b[1m946/946\u001b[0m \u001b[32m━━━━━━━━━━━━━━━━━━━━\u001b[0m\u001b[37m\u001b[0m \u001b[1m383s\u001b[0m 347ms/step - accuracy: 0.9727 - loss: 0.0828 - val_accuracy: 0.9598 - val_loss: 0.1530\n",
            "Epoch 14/15\n",
            "\u001b[1m946/946\u001b[0m \u001b[32m━━━━━━━━━━━━━━━━━━━━\u001b[0m\u001b[37m\u001b[0m \u001b[1m407s\u001b[0m 374ms/step - accuracy: 0.9721 - loss: 0.0826 - val_accuracy: 0.9527 - val_loss: 0.2412\n",
            "Epoch 15/15\n",
            "\u001b[1m946/946\u001b[0m \u001b[32m━━━━━━━━━━━━━━━━━━━━\u001b[0m\u001b[37m\u001b[0m \u001b[1m356s\u001b[0m 347ms/step - accuracy: 0.9679 - loss: 0.1073 - val_accuracy: 0.9498 - val_loss: 0.1874\n",
            "##########\n",
            "0.1\n",
            "Epoch 1/15\n",
            "\u001b[1m946/946\u001b[0m \u001b[32m━━━━━━━━━━━━━━━━━━━━\u001b[0m\u001b[37m\u001b[0m \u001b[1m343s\u001b[0m 354ms/step - accuracy: 0.9091 - loss: 1.3532 - val_accuracy: 0.9508 - val_loss: 0.6586\n",
            "Epoch 2/15\n",
            "\u001b[1m946/946\u001b[0m \u001b[32m━━━━━━━━━━━━━━━━━━━━\u001b[0m\u001b[37m\u001b[0m \u001b[1m374s\u001b[0m 348ms/step - accuracy: 0.9406 - loss: 0.9237 - val_accuracy: 0.9521 - val_loss: 0.7706\n",
            "Epoch 3/15\n",
            "\u001b[1m946/946\u001b[0m \u001b[32m━━━━━━━━━━━━━━━━━━━━\u001b[0m\u001b[37m\u001b[0m \u001b[1m329s\u001b[0m 347ms/step - accuracy: 0.9502 - loss: 0.8074 - val_accuracy: 0.9495 - val_loss: 1.2654\n",
            "Epoch 4/15\n",
            "\u001b[1m946/946\u001b[0m \u001b[32m━━━━━━━━━━━━━━━━━━━━\u001b[0m\u001b[37m\u001b[0m \u001b[1m355s\u001b[0m 374ms/step - accuracy: 0.9497 - loss: 0.9658 - val_accuracy: 0.9583 - val_loss: 0.9102\n",
            "Epoch 5/15\n",
            "\u001b[1m946/946\u001b[0m \u001b[32m━━━━━━━━━━━━━━━━━━━━\u001b[0m\u001b[37m\u001b[0m \u001b[1m382s\u001b[0m 375ms/step - accuracy: 0.9569 - loss: 0.7900 - val_accuracy: 0.9576 - val_loss: 0.9034\n",
            "Epoch 6/15\n",
            "\u001b[1m946/946\u001b[0m \u001b[32m━━━━━━━━━━━━━━━━━━━━\u001b[0m\u001b[37m\u001b[0m \u001b[1m330s\u001b[0m 348ms/step - accuracy: 0.9597 - loss: 0.8114 - val_accuracy: 0.9578 - val_loss: 0.9526\n",
            "Epoch 7/15\n",
            "\u001b[1m946/946\u001b[0m \u001b[32m━━━━━━━━━━━━━━━━━━━━\u001b[0m\u001b[37m\u001b[0m \u001b[1m408s\u001b[0m 375ms/step - accuracy: 0.9602 - loss: 0.8439 - val_accuracy: 0.9527 - val_loss: 1.1138\n",
            "Epoch 8/15\n",
            "\u001b[1m946/946\u001b[0m \u001b[32m━━━━━━━━━━━━━━━━━━━━\u001b[0m\u001b[37m\u001b[0m \u001b[1m330s\u001b[0m 347ms/step - accuracy: 0.9613 - loss: 0.8054 - val_accuracy: 0.9663 - val_loss: 0.9065\n",
            "Epoch 9/15\n",
            "\u001b[1m946/946\u001b[0m \u001b[32m━━━━━━━━━━━━━━━━━━━━\u001b[0m\u001b[37m\u001b[0m \u001b[1m355s\u001b[0m 374ms/step - accuracy: 0.9648 - loss: 0.7937 - val_accuracy: 0.9643 - val_loss: 1.0261\n",
            "Epoch 10/15\n",
            "\u001b[1m946/946\u001b[0m \u001b[32m━━━━━━━━━━━━━━━━━━━━\u001b[0m\u001b[37m\u001b[0m \u001b[1m381s\u001b[0m 374ms/step - accuracy: 0.9646 - loss: 0.7047 - val_accuracy: 0.9587 - val_loss: 1.2317\n",
            "Epoch 11/15\n",
            "\u001b[1m946/946\u001b[0m \u001b[32m━━━━━━━━━━━━━━━━━━━━\u001b[0m\u001b[37m\u001b[0m \u001b[1m357s\u001b[0m 347ms/step - accuracy: 0.9608 - loss: 0.9237 - val_accuracy: 0.9643 - val_loss: 1.0375\n",
            "Epoch 12/15\n",
            "\u001b[1m946/946\u001b[0m \u001b[32m━━━━━━━━━━━━━━━━━━━━\u001b[0m\u001b[37m\u001b[0m \u001b[1m329s\u001b[0m 347ms/step - accuracy: 0.9625 - loss: 0.8297 - val_accuracy: 0.9648 - val_loss: 1.2338\n",
            "Epoch 13/15\n",
            "\u001b[1m946/946\u001b[0m \u001b[32m━━━━━━━━━━━━━━━━━━━━\u001b[0m\u001b[37m\u001b[0m \u001b[1m382s\u001b[0m 346ms/step - accuracy: 0.9667 - loss: 0.7497 - val_accuracy: 0.9471 - val_loss: 1.6690\n",
            "Epoch 14/15\n",
            "\u001b[1m946/946\u001b[0m \u001b[32m━━━━━━━━━━━━━━━━━━━━\u001b[0m\u001b[37m\u001b[0m \u001b[1m383s\u001b[0m 347ms/step - accuracy: 0.9662 - loss: 0.6971 - val_accuracy: 0.9379 - val_loss: 2.1751\n",
            "Epoch 15/15\n",
            "\u001b[1m946/946\u001b[0m \u001b[32m━━━━━━━━━━━━━━━━━━━━\u001b[0m\u001b[37m\u001b[0m \u001b[1m329s\u001b[0m 347ms/step - accuracy: 0.9658 - loss: 0.8586 - val_accuracy: 0.9571 - val_loss: 1.3239\n",
            "##########\n"
          ]
        }
      ],
      "source": [
        "from PIL import ImageFile\n",
        "# Ignore truncated images\n",
        "ImageFile.LOAD_TRUNCATED_IMAGES = True\n",
        "\n",
        "scores = {}\n",
        "\n",
        "for lr in [0.0001, 0.001, 0.01, 0.1]:\n",
        "  print(lr)\n",
        "  model = create_model(lr)\n",
        "  history = model.fit(\n",
        "      train_ds,\n",
        "      epochs=15,\n",
        "      validation_data=val_ds\n",
        "  )\n",
        "  scores[lr] = history.history\n",
        "  print('##########')"
      ]
    },
    {
      "cell_type": "code",
      "execution_count": null,
      "metadata": {
        "colab": {
          "base_uri": "https://localhost:8080/",
          "height": 452
        },
        "id": "AmTFl-OtHfl-",
        "outputId": "d4b8d7b5-6c87-4d91-ed5b-36fa7a0b5717"
      },
      "outputs": [
        {
          "data": {
            "text/plain": [
              "<matplotlib.legend.Legend at 0x7f23d8e3dab0>"
            ]
          },
          "execution_count": 31,
          "metadata": {},
          "output_type": "execute_result"
        },
        {
          "data": {
            "image/png": "[encoded data removed]",
            "text/plain": [
              "<Figure size 640x480 with 1 Axes>"
            ]
          },
          "metadata": {},
          "output_type": "display_data"
        }
      ],
      "source": [
        "for lr, hist in scores.items():\n",
        "  plt.plot(\n",
        "      hist['accuracy'],\n",
        "      label=lr\n",
        "  )\n",
        "\n",
        "plt.ylim(0.85, 1)\n",
        "plt.legend()"
      ]
    },
    {
      "cell_type": "code",
      "execution_count": 16,
      "metadata": {
        "id": "vzL6cp7CcDF4"
      },
      "outputs": [],
      "source": [
        "# Best lr\n",
        "learning_rate = 0.001"
      ]
    },
    {
      "cell_type": "markdown",
      "metadata": {
        "id": "KQ_KUj6qcaYR"
      },
      "source": [
        "##Adding more inner dense layers"
      ]
    },
    {
      "cell_type": "code",
      "execution_count": null,
      "metadata": {
        "id": "_xfpe32XcNiK"
      },
      "outputs": [],
      "source": [
        "# modify create model function\n",
        "def create_model(learning_rate=0.001, size_inner=100):\n",
        "  base_model = Xception(\n",
        "      weights='imagenet',\n",
        "      include_top=False,\n",
        "      input_shape=(350, 350, 3)\n",
        "  )\n",
        "  base_model.trainable = False\n",
        "\n",
        "  inputs = ks.Input(\n",
        "      shape=(350,350,3)\n",
        "  )\n",
        "\n",
        "  base = base_model(inputs, training=False)\n",
        "\n",
        "  vectors = ks.layers.GlobalAveragePooling2D()(base)\n",
        "\n",
        "  # adding inner layer\n",
        "  inner = ks.layers.Dense(size_inner, activation='relu')(vectors)\n",
        "\n",
        "  # 2 classes\n",
        "  outputs = ks.layers.Dense(2)(inner)\n",
        "\n",
        "  model = ks.Model(inputs, outputs)\n",
        "\n",
        "  optimizer = ks.optimizers.Adam(learning_rate=learning_rate)\n",
        "\n",
        "  loss = ks.losses.CategoricalCrossentropy(\n",
        "      from_logits=True\n",
        "  )\n",
        "\n",
        "  model.compile(\n",
        "      optimizer=optimizer,\n",
        "      loss=loss,\n",
        "      metrics=['accuracy']\n",
        "  )\n",
        "\n",
        "  return model"
      ]
    },
    {
      "cell_type": "markdown",
      "metadata": {
        "id": "sruXGUh_dCjQ"
      },
      "source": [
        "##Find the best size for inner layer"
      ]
    },
    {
      "cell_type": "code",
      "execution_count": null,
      "metadata": {
        "colab": {
          "base_uri": "https://localhost:8080/"
        },
        "id": "GPrC41fOc7Mc",
        "outputId": "33e1028e-4984-434f-b94d-49c749b217ca"
      },
      "outputs": [
        {
          "output_type": "stream",
          "name": "stdout",
          "text": [
            "10\n",
            "Downloading data from https://storage.googleapis.com/tensorflow/keras-applications/xception/xception_weights_tf_dim_ordering_tf_kernels_notop.h5\n",
            "\u001b[1m83683744/83683744\u001b[0m \u001b[32m━━━━━━━━━━━━━━━━━━━━\u001b[0m\u001b[37m\u001b[0m \u001b[1m0s\u001b[0m 0us/step\n",
            "Epoch 1/15\n"
          ]
        },
        {
          "output_type": "stream",
          "name": "stderr",
          "text": [
            "/usr/local/lib/python3.10/dist-packages/keras/src/trainers/data_adapters/py_dataset_adapter.py:122: UserWarning: Your `PyDataset` class should call `super().__init__(**kwargs)` in its constructor. `**kwargs` can include `workers`, `use_multiprocessing`, `max_queue_size`. Do not pass these arguments to `fit()`, as they will be ignored.\n",
            "  self._warn_if_super_not_called()\n"
          ]
        },
        {
          "output_type": "stream",
          "name": "stdout",
          "text": [
            "\u001b[1m946/946\u001b[0m \u001b[32m━━━━━━━━━━━━━━━━━━━━\u001b[0m\u001b[37m\u001b[0m \u001b[1m148s\u001b[0m 139ms/step - accuracy: 0.9317 - loss: 0.1808 - val_accuracy: 0.9613 - val_loss: 0.1028\n",
            "Epoch 2/15\n",
            "\u001b[1m946/946\u001b[0m \u001b[32m━━━━━━━━━━━━━━━━━━━━\u001b[0m\u001b[37m\u001b[0m \u001b[1m115s\u001b[0m 121ms/step - accuracy: 0.9583 - loss: 0.1141 - val_accuracy: 0.9525 - val_loss: 0.1305\n",
            "Epoch 3/15\n",
            "\u001b[1m946/946\u001b[0m \u001b[32m━━━━━━━━━━━━━━━━━━━━\u001b[0m\u001b[37m\u001b[0m \u001b[1m114s\u001b[0m 120ms/step - accuracy: 0.9599 - loss: 0.1003 - val_accuracy: 0.9659 - val_loss: 0.0876\n",
            "Epoch 4/15\n",
            "\u001b[1m946/946\u001b[0m \u001b[32m━━━━━━━━━━━━━━━━━━━━\u001b[0m\u001b[37m\u001b[0m \u001b[1m116s\u001b[0m 122ms/step - accuracy: 0.9670 - loss: 0.0859 - val_accuracy: 0.9600 - val_loss: 0.1118\n",
            "Epoch 5/15\n",
            "\u001b[1m946/946\u001b[0m \u001b[32m━━━━━━━━━━━━━━━━━━━━\u001b[0m\u001b[37m\u001b[0m \u001b[1m115s\u001b[0m 121ms/step - accuracy: 0.9718 - loss: 0.0786 - val_accuracy: 0.9602 - val_loss: 0.1092\n",
            "Epoch 6/15\n",
            "\u001b[1m946/946\u001b[0m \u001b[32m━━━━━━━━━━━━━━━━━━━━\u001b[0m\u001b[37m\u001b[0m \u001b[1m116s\u001b[0m 122ms/step - accuracy: 0.9736 - loss: 0.0736 - val_accuracy: 0.9683 - val_loss: 0.0879\n",
            "Epoch 7/15\n",
            "\u001b[1m946/946\u001b[0m \u001b[32m━━━━━━━━━━━━━━━━━━━━\u001b[0m\u001b[37m\u001b[0m \u001b[1m116s\u001b[0m 122ms/step - accuracy: 0.9754 - loss: 0.0660 - val_accuracy: 0.9671 - val_loss: 0.0908\n",
            "Epoch 8/15\n",
            "\u001b[1m946/946\u001b[0m \u001b[32m━━━━━━━━━━━━━━━━━━━━\u001b[0m\u001b[37m\u001b[0m \u001b[1m117s\u001b[0m 123ms/step - accuracy: 0.9770 - loss: 0.0631 - val_accuracy: 0.9679 - val_loss: 0.0921\n",
            "Epoch 9/15\n",
            "\u001b[1m946/946\u001b[0m \u001b[32m━━━━━━━━━━━━━━━━━━━━\u001b[0m\u001b[37m\u001b[0m \u001b[1m117s\u001b[0m 123ms/step - accuracy: 0.9754 - loss: 0.0668 - val_accuracy: 0.9695 - val_loss: 0.0867\n",
            "Epoch 10/15\n",
            "\u001b[1m946/946\u001b[0m \u001b[32m━━━━━━━━━━━━━━━━━━━━\u001b[0m\u001b[37m\u001b[0m \u001b[1m115s\u001b[0m 121ms/step - accuracy: 0.9784 - loss: 0.0574 - val_accuracy: 0.9637 - val_loss: 0.0943\n",
            "Epoch 11/15\n",
            "\u001b[1m946/946\u001b[0m \u001b[32m━━━━━━━━━━━━━━━━━━━━\u001b[0m\u001b[37m\u001b[0m \u001b[1m115s\u001b[0m 121ms/step - accuracy: 0.9799 - loss: 0.0544 - val_accuracy: 0.9676 - val_loss: 0.0913\n",
            "Epoch 12/15\n",
            "\u001b[1m946/946\u001b[0m \u001b[32m━━━━━━━━━━━━━━━━━━━━\u001b[0m\u001b[37m\u001b[0m \u001b[1m115s\u001b[0m 121ms/step - accuracy: 0.9798 - loss: 0.0540 - val_accuracy: 0.9671 - val_loss: 0.0888\n",
            "Epoch 13/15\n",
            "\u001b[1m946/946\u001b[0m \u001b[32m━━━━━━━━━━━━━━━━━━━━\u001b[0m\u001b[37m\u001b[0m \u001b[1m115s\u001b[0m 121ms/step - accuracy: 0.9810 - loss: 0.0504 - val_accuracy: 0.9702 - val_loss: 0.0910\n",
            "Epoch 14/15\n",
            "\u001b[1m946/946\u001b[0m \u001b[32m━━━━━━━━━━━━━━━━━━━━\u001b[0m\u001b[37m\u001b[0m \u001b[1m115s\u001b[0m 121ms/step - accuracy: 0.9827 - loss: 0.0461 - val_accuracy: 0.9708 - val_loss: 0.0897\n",
            "Epoch 15/15\n",
            "\u001b[1m946/946\u001b[0m \u001b[32m━━━━━━━━━━━━━━━━━━━━\u001b[0m\u001b[37m\u001b[0m \u001b[1m115s\u001b[0m 121ms/step - accuracy: 0.9851 - loss: 0.0431 - val_accuracy: 0.9690 - val_loss: 0.0874\n",
            "##########\n",
            "100\n",
            "Epoch 1/15\n",
            "\u001b[1m946/946\u001b[0m \u001b[32m━━━━━━━━━━━━━━━━━━━━\u001b[0m\u001b[37m\u001b[0m \u001b[1m135s\u001b[0m 132ms/step - accuracy: 0.9324 - loss: 0.1655 - val_accuracy: 0.9590 - val_loss: 0.1109\n",
            "Epoch 2/15\n",
            "\u001b[1m946/946\u001b[0m \u001b[32m━━━━━━━━━━━━━━━━━━━━\u001b[0m\u001b[37m\u001b[0m \u001b[1m114s\u001b[0m 120ms/step - accuracy: 0.9605 - loss: 0.1037 - val_accuracy: 0.9651 - val_loss: 0.0901\n",
            "Epoch 3/15\n",
            "\u001b[1m946/946\u001b[0m \u001b[32m━━━━━━━━━━━━━━━━━━━━\u001b[0m\u001b[37m\u001b[0m \u001b[1m114s\u001b[0m 119ms/step - accuracy: 0.9693 - loss: 0.0794 - val_accuracy: 0.9681 - val_loss: 0.0867\n",
            "Epoch 4/15\n",
            "\u001b[1m946/946\u001b[0m \u001b[32m━━━━━━━━━━━━━━━━━━━━\u001b[0m\u001b[37m\u001b[0m \u001b[1m115s\u001b[0m 121ms/step - accuracy: 0.9720 - loss: 0.0721 - val_accuracy: 0.9678 - val_loss: 0.0814\n",
            "Epoch 5/15\n",
            "\u001b[1m946/946\u001b[0m \u001b[32m━━━━━━━━━━━━━━━━━━━━\u001b[0m\u001b[37m\u001b[0m \u001b[1m114s\u001b[0m 120ms/step - accuracy: 0.9779 - loss: 0.0562 - val_accuracy: 0.9702 - val_loss: 0.0814\n",
            "Epoch 6/15\n",
            "\u001b[1m946/946\u001b[0m \u001b[32m━━━━━━━━━━━━━━━━━━━━\u001b[0m\u001b[37m\u001b[0m \u001b[1m115s\u001b[0m 121ms/step - accuracy: 0.9820 - loss: 0.0495 - val_accuracy: 0.9748 - val_loss: 0.0757\n",
            "Epoch 7/15\n",
            "\u001b[1m946/946\u001b[0m \u001b[32m━━━━━━━━━━━━━━━━━━━━\u001b[0m\u001b[37m\u001b[0m \u001b[1m114s\u001b[0m 120ms/step - accuracy: 0.9845 - loss: 0.0406 - val_accuracy: 0.9686 - val_loss: 0.0971\n",
            "Epoch 8/15\n",
            "\u001b[1m946/946\u001b[0m \u001b[32m━━━━━━━━━━━━━━━━━━━━\u001b[0m\u001b[37m\u001b[0m \u001b[1m116s\u001b[0m 122ms/step - accuracy: 0.9880 - loss: 0.0310 - val_accuracy: 0.9605 - val_loss: 0.1304\n",
            "Epoch 9/15\n",
            "\u001b[1m946/946\u001b[0m \u001b[32m━━━━━━━━━━━━━━━━━━━━\u001b[0m\u001b[37m\u001b[0m \u001b[1m116s\u001b[0m 121ms/step - accuracy: 0.9911 - loss: 0.0256 - val_accuracy: 0.9730 - val_loss: 0.0871\n",
            "Epoch 10/15\n",
            "\u001b[1m946/946\u001b[0m \u001b[32m━━━━━━━━━━━━━━━━━━━━\u001b[0m\u001b[37m\u001b[0m \u001b[1m117s\u001b[0m 123ms/step - accuracy: 0.9929 - loss: 0.0202 - val_accuracy: 0.9706 - val_loss: 0.1006\n",
            "Epoch 11/15\n",
            "\u001b[1m946/946\u001b[0m \u001b[32m━━━━━━━━━━━━━━━━━━━━\u001b[0m\u001b[37m\u001b[0m \u001b[1m115s\u001b[0m 121ms/step - accuracy: 0.9941 - loss: 0.0167 - val_accuracy: 0.9698 - val_loss: 0.1020\n",
            "Epoch 12/15\n",
            "\u001b[1m946/946\u001b[0m \u001b[32m━━━━━━━━━━━━━━━━━━━━\u001b[0m\u001b[37m\u001b[0m \u001b[1m115s\u001b[0m 120ms/step - accuracy: 0.9957 - loss: 0.0132 - val_accuracy: 0.9714 - val_loss: 0.1070\n",
            "Epoch 13/15\n",
            "\u001b[1m946/946\u001b[0m \u001b[32m━━━━━━━━━━━━━━━━━━━━\u001b[0m\u001b[37m\u001b[0m \u001b[1m117s\u001b[0m 122ms/step - accuracy: 0.9969 - loss: 0.0094 - val_accuracy: 0.9748 - val_loss: 0.1267\n",
            "Epoch 14/15\n",
            "\u001b[1m946/946\u001b[0m \u001b[32m━━━━━━━━━━━━━━━━━━━━\u001b[0m\u001b[37m\u001b[0m \u001b[1m117s\u001b[0m 123ms/step - accuracy: 0.9969 - loss: 0.0098 - val_accuracy: 0.9770 - val_loss: 0.0987\n",
            "Epoch 15/15\n",
            "\u001b[1m946/946\u001b[0m \u001b[32m━━━━━━━━━━━━━━━━━━━━\u001b[0m\u001b[37m\u001b[0m \u001b[1m115s\u001b[0m 121ms/step - accuracy: 0.9977 - loss: 0.0077 - val_accuracy: 0.9729 - val_loss: 0.1251\n",
            "##########\n",
            "1000\n",
            "Epoch 1/15\n",
            "\u001b[1m946/946\u001b[0m \u001b[32m━━━━━━━━━━━━━━━━━━━━\u001b[0m\u001b[37m\u001b[0m \u001b[1m138s\u001b[0m 134ms/step - accuracy: 0.9366 - loss: 0.1679 - val_accuracy: 0.9656 - val_loss: 0.0957\n",
            "Epoch 2/15\n",
            "\u001b[1m946/946\u001b[0m \u001b[32m━━━━━━━━━━━━━━━━━━━━\u001b[0m\u001b[37m\u001b[0m \u001b[1m116s\u001b[0m 122ms/step - accuracy: 0.9617 - loss: 0.0990 - val_accuracy: 0.9644 - val_loss: 0.0932\n",
            "Epoch 3/15\n",
            "\u001b[1m946/946\u001b[0m \u001b[32m━━━━━━━━━━━━━━━━━━━━\u001b[0m\u001b[37m\u001b[0m \u001b[1m116s\u001b[0m 122ms/step - accuracy: 0.9683 - loss: 0.0842 - val_accuracy: 0.9695 - val_loss: 0.0848\n",
            "Epoch 4/15\n",
            "\u001b[1m946/946\u001b[0m \u001b[32m━━━━━━━━━━━━━━━━━━━━\u001b[0m\u001b[37m\u001b[0m \u001b[1m117s\u001b[0m 123ms/step - accuracy: 0.9765 - loss: 0.0619 - val_accuracy: 0.9654 - val_loss: 0.0938\n",
            "Epoch 5/15\n",
            "\u001b[1m946/946\u001b[0m \u001b[32m━━━━━━━━━━━━━━━━━━━━\u001b[0m\u001b[37m\u001b[0m \u001b[1m118s\u001b[0m 124ms/step - accuracy: 0.9810 - loss: 0.0521 - val_accuracy: 0.9717 - val_loss: 0.0810\n",
            "Epoch 6/15\n",
            "\u001b[1m946/946\u001b[0m \u001b[32m━━━━━━━━━━━━━━━━━━━━\u001b[0m\u001b[37m\u001b[0m \u001b[1m115s\u001b[0m 121ms/step - accuracy: 0.9858 - loss: 0.0390 - val_accuracy: 0.9679 - val_loss: 0.0898\n",
            "Epoch 7/15\n",
            "\u001b[1m946/946\u001b[0m \u001b[32m━━━━━━━━━━━━━━━━━━━━\u001b[0m\u001b[37m\u001b[0m \u001b[1m115s\u001b[0m 121ms/step - accuracy: 0.9885 - loss: 0.0320 - val_accuracy: 0.9710 - val_loss: 0.1001\n",
            "Epoch 8/15\n",
            "\u001b[1m946/946\u001b[0m \u001b[32m━━━━━━━━━━━━━━━━━━━━\u001b[0m\u001b[37m\u001b[0m \u001b[1m117s\u001b[0m 123ms/step - accuracy: 0.9905 - loss: 0.0260 - val_accuracy: 0.9573 - val_loss: 0.1414\n",
            "Epoch 9/15\n",
            "\u001b[1m946/946\u001b[0m \u001b[32m━━━━━━━━━━━━━━━━━━━━\u001b[0m\u001b[37m\u001b[0m \u001b[1m118s\u001b[0m 124ms/step - accuracy: 0.9913 - loss: 0.0231 - val_accuracy: 0.9730 - val_loss: 0.1073\n",
            "Epoch 10/15\n",
            "\u001b[1m946/946\u001b[0m \u001b[32m━━━━━━━━━━━━━━━━━━━━\u001b[0m\u001b[37m\u001b[0m \u001b[1m116s\u001b[0m 122ms/step - accuracy: 0.9939 - loss: 0.0174 - val_accuracy: 0.9762 - val_loss: 0.0942\n",
            "Epoch 11/15\n",
            "\u001b[1m946/946\u001b[0m \u001b[32m━━━━━━━━━━━━━━━━━━━━\u001b[0m\u001b[37m\u001b[0m \u001b[1m115s\u001b[0m 121ms/step - accuracy: 0.9968 - loss: 0.0100 - val_accuracy: 0.9765 - val_loss: 0.0896\n",
            "Epoch 12/15\n",
            "\u001b[1m946/946\u001b[0m \u001b[32m━━━━━━━━━━━━━━━━━━━━\u001b[0m\u001b[37m\u001b[0m \u001b[1m116s\u001b[0m 122ms/step - accuracy: 0.9962 - loss: 0.0109 - val_accuracy: 0.9767 - val_loss: 0.1009\n",
            "Epoch 13/15\n",
            "\u001b[1m946/946\u001b[0m \u001b[32m━━━━━━━━━━━━━━━━━━━━\u001b[0m\u001b[37m\u001b[0m \u001b[1m117s\u001b[0m 122ms/step - accuracy: 0.9973 - loss: 0.0074 - val_accuracy: 0.9622 - val_loss: 0.1739\n",
            "Epoch 14/15\n",
            "\u001b[1m946/946\u001b[0m \u001b[32m━━━━━━━━━━━━━━━━━━━━\u001b[0m\u001b[37m\u001b[0m \u001b[1m116s\u001b[0m 122ms/step - accuracy: 0.9972 - loss: 0.0096 - val_accuracy: 0.9744 - val_loss: 0.1277\n",
            "Epoch 15/15\n",
            "\u001b[1m946/946\u001b[0m \u001b[32m━━━━━━━━━━━━━━━━━━━━\u001b[0m\u001b[37m\u001b[0m \u001b[1m117s\u001b[0m 123ms/step - accuracy: 0.9966 - loss: 0.0093 - val_accuracy: 0.9763 - val_loss: 0.1269\n",
            "##########\n"
          ]
        }
      ],
      "source": [
        "from PIL import ImageFile\n",
        "# Ignore truncated images\n",
        "ImageFile.LOAD_TRUNCATED_IMAGES = True\n",
        "\n",
        "scores = {}\n",
        "\n",
        "for size in [10, 100, 1000]:\n",
        "  print(size)\n",
        "  model = create_model(learning_rate, size_inner=size)\n",
        "  history = model.fit(\n",
        "      train_ds,\n",
        "      epochs=15,\n",
        "      validation_data=val_ds\n",
        "  )\n",
        "  scores[size] = history.history\n",
        "  print('##########')"
      ]
    },
    {
      "cell_type": "code",
      "execution_count": null,
      "metadata": {
        "id": "UHc8RKp2dOuL",
        "colab": {
          "base_uri": "https://localhost:8080/",
          "height": 435
        },
        "outputId": "36ab2784-71bc-43c6-cadf-bd12fbb3dfd4"
      },
      "outputs": [
        {
          "output_type": "display_data",
          "data": {
            "text/plain": [
              "<Figure size 640x480 with 1 Axes>"
            ],
            "image/png": "[encoded data removed]"
          },
          "metadata": {}
        }
      ],
      "source": [
        "for size, hist in scores.items():\n",
        "  plt.plot(\n",
        "      hist['val_accuracy'],\n",
        "      label=('val=%s' % size),\n",
        "  )\n",
        "  plt.plot(\n",
        "      hist['accuracy'],\n",
        "      label=('train=%s' % size)\n",
        "  )\n",
        "\n",
        "  plt.legend()"
      ]
    },
    {
      "cell_type": "code",
      "execution_count": 15,
      "metadata": {
        "id": "GZBL1oH6ft28"
      },
      "outputs": [],
      "source": [
        "# Best size\n",
        "size_inner = 100"
      ]
    },
    {
      "cell_type": "markdown",
      "source": [
        "##Dropout and regularization"
      ],
      "metadata": {
        "id": "T1zb_1Wkf-x-"
      }
    },
    {
      "cell_type": "code",
      "source": [
        "# modify create model function\n",
        "def create_model(learning_rate=0.001, size_inner=100, drop_rate=0.5):\n",
        "  base_model = Xception(\n",
        "      weights='imagenet',\n",
        "      include_top=False,\n",
        "      input_shape=(350, 350, 3)\n",
        "  )\n",
        "  base_model.trainable = False\n",
        "\n",
        "  inputs = ks.Input(\n",
        "      shape=(350,350,3)\n",
        "  )\n",
        "\n",
        "  base = base_model(inputs, training=False)\n",
        "\n",
        "  vectors = ks.layers.GlobalAveragePooling2D()(base)\n",
        "\n",
        "  # adding inner layer\n",
        "  inner = ks.layers.Dense(size_inner, activation='relu')(vectors)\n",
        "\n",
        "  # dropout\n",
        "  drop = ks.layers.Dropout(drop_rate)(inner)\n",
        "\n",
        "  # 2 classes\n",
        "  outputs = ks.layers.Dense(2)(drop)\n",
        "\n",
        "  model = ks.Model(inputs, outputs)\n",
        "\n",
        "  optimizer = ks.optimizers.Adam(learning_rate=learning_rate)\n",
        "\n",
        "  loss = ks.losses.CategoricalCrossentropy(\n",
        "      from_logits=True\n",
        "  )\n",
        "\n",
        "  model.compile(\n",
        "      optimizer=optimizer,\n",
        "      loss=loss,\n",
        "      metrics=['accuracy']\n",
        "  )\n",
        "\n",
        "  return model"
      ],
      "metadata": {
        "id": "a-kI8PqRf-F0"
      },
      "execution_count": 19,
      "outputs": []
    },
    {
      "cell_type": "markdown",
      "source": [
        "##Find best drop rate"
      ],
      "metadata": {
        "id": "GVT5_lQVgY_1"
      }
    },
    {
      "cell_type": "code",
      "source": [
        "from PIL import ImageFile\n",
        "# Ignore truncated images\n",
        "ImageFile.LOAD_TRUNCATED_IMAGES = True\n",
        "\n",
        "scores = {}\n",
        "\n",
        "for drop_rate in [0.0, 0.2, 0.5, 0.8]:\n",
        "  print(drop_rate)\n",
        "  model = create_model(\n",
        "      learning_rate,\n",
        "      size_inner,\n",
        "      drop_rate\n",
        "      )\n",
        "  history = model.fit(\n",
        "      train_ds,\n",
        "      epochs=30,# we need more epochs because we added regularization\n",
        "      validation_data=val_ds\n",
        "  )\n",
        "  scores[drop_rate] = history.history\n",
        "  print('##########')"
      ],
      "metadata": {
        "colab": {
          "base_uri": "https://localhost:8080/",
          "height": 211
        },
        "id": "u63q4BLOgRiY",
        "outputId": "6f4b521c-0f14-42ad-c2e7-0ef2065439ad"
      },
      "execution_count": null,
      "outputs": [
        {
          "output_type": "error",
          "ename": "NameError",
          "evalue": "name 'size' is not defined",
          "traceback": [
            "\u001b[0;31m---------------------------------------------------------------------------\u001b[0m",
            "\u001b[0;31mNameError\u001b[0m                                 Traceback (most recent call last)",
            "\u001b[0;32m<ipython-input-17-d186d08276ca>\u001b[0m in \u001b[0;36m<cell line: 7>\u001b[0;34m()\u001b[0m\n\u001b[1;32m      6\u001b[0m \u001b[0;34m\u001b[0m\u001b[0m\n\u001b[1;32m      7\u001b[0m \u001b[0;32mfor\u001b[0m \u001b[0mdrop_rate\u001b[0m \u001b[0;32min\u001b[0m \u001b[0;34m[\u001b[0m\u001b[0;36m0.0\u001b[0m\u001b[0;34m,\u001b[0m \u001b[0;36m0.2\u001b[0m\u001b[0;34m,\u001b[0m \u001b[0;36m0.5\u001b[0m\u001b[0;34m,\u001b[0m \u001b[0;36m0.8\u001b[0m\u001b[0;34m]\u001b[0m\u001b[0;34m:\u001b[0m\u001b[0;34m\u001b[0m\u001b[0;34m\u001b[0m\u001b[0m\n\u001b[0;32m----> 8\u001b[0;31m   \u001b[0mprint\u001b[0m\u001b[0;34m(\u001b[0m\u001b[0msize\u001b[0m\u001b[0;34m)\u001b[0m\u001b[0;34m\u001b[0m\u001b[0;34m\u001b[0m\u001b[0m\n\u001b[0m\u001b[1;32m      9\u001b[0m   model = create_model(\n\u001b[1;32m     10\u001b[0m       \u001b[0mlearning_rate\u001b[0m\u001b[0;34m,\u001b[0m\u001b[0;34m\u001b[0m\u001b[0;34m\u001b[0m\u001b[0m\n",
            "\u001b[0;31mNameError\u001b[0m: name 'size' is not defined"
          ]
        }
      ]
    },
    {
      "cell_type": "code",
      "source": [
        "for drop, hist in scores.items():\n",
        "  plt.plot(\n",
        "      hist['val_accuracy'],\n",
        "      label=('val=%s' % drop),\n",
        "  )\n",
        "  plt.plot(\n",
        "      hist['accuracy'],\n",
        "      label=('train=%s' % drop)\n",
        "  )\n",
        "\n",
        "plt.legend()"
      ],
      "metadata": {
        "colab": {
          "base_uri": "https://localhost:8080/",
          "height": 447
        },
        "id": "VdWJo7UQgqoB",
        "outputId": "46743cf0-7689-4d1b-c1e1-57bf887e3622"
      },
      "execution_count": null,
      "outputs": [
        {
          "output_type": "execute_result",
          "data": {
            "text/plain": [
              "<matplotlib.legend.Legend at 0x7bbbcd64dea0>"
            ]
          },
          "metadata": {},
          "execution_count": 22
        },
        {
          "output_type": "display_data",
          "data": {
            "text/plain": [
              "<Figure size 640x480 with 1 Axes>"
            ],
            "image/png": "[encoded data removed]"
          },
          "metadata": {}
        }
      ]
    },
    {
      "cell_type": "code",
      "source": [
        "drop_rate = 0.2"
      ],
      "metadata": {
        "id": "aq0kjcDMgy51"
      },
      "execution_count": 14,
      "outputs": []
    },
    {
      "cell_type": "markdown",
      "source": [
        "##Data augmentation"
      ],
      "metadata": {
        "id": "8X6cA0z2lTdh"
      }
    },
    {
      "cell_type": "code",
      "source": [
        "train_gen = ImageDataGenerator(\n",
        "    preprocessing_function=preprocess_input,\n",
        "    horizontal_flip=True,\n",
        "    vertical_flip=True\n",
        "\n",
        "    # I didn't use more props because the train process was 5 epochs = 1 hour... yes, amazing\n",
        "    #shear_range=10,\n",
        "    #rotation_range=30,\n",
        "    #width_shift_range=30,\n",
        "    #height_shift_range=10,\n",
        "    #cval=0.0,\n",
        "    #zoom_range=0.1,\n",
        ")\n",
        "\n",
        "train_ds = train_gen.flow_from_directory(\n",
        "    '/content/datasets/train',\n",
        "    target_size=(350, 350),\n",
        "    batch_size=32\n",
        ")\n",
        "\n",
        "val_gen = ImageDataGenerator(\n",
        "    preprocessing_function=preprocess_input\n",
        ")\n",
        "\n",
        "val_ds = val_gen.flow_from_directory(\n",
        "    '/content/datasets/valid',\n",
        "    target_size=(350, 350),\n",
        "    batch_size=32,\n",
        "    shuffle=False\n",
        ")"
      ],
      "metadata": {
        "colab": {
          "base_uri": "https://localhost:8080/"
        },
        "id": "2eQYwagOlFUX",
        "outputId": "48da0c60-264a-4b0f-ca99-bfd75ac81366"
      },
      "execution_count": 34,
      "outputs": [
        {
          "output_type": "stream",
          "name": "stdout",
          "text": [
            "Found 30250 images belonging to 2 classes.\n",
            "Found 6300 images belonging to 2 classes.\n"
          ]
        }
      ]
    },
    {
      "cell_type": "code",
      "source": [
        "from PIL import ImageFile\n",
        "# Ignore truncated images\n",
        "ImageFile.LOAD_TRUNCATED_IMAGES = True\n",
        "\n",
        "model = create_model(\n",
        "    learning_rate,\n",
        "    size_inner,\n",
        "    drop_rate\n",
        "    )\n",
        "\n",
        "history = model.fit(\n",
        "    train_ds,\n",
        "    epochs=50,\n",
        "    validation_data=val_ds\n",
        ")"
      ],
      "metadata": {
        "colab": {
          "base_uri": "https://localhost:8080/"
        },
        "id": "m-dQv0shmm4Q",
        "outputId": "7e56bc63-e088-4be8-fc72-b0c210f9db62"
      },
      "execution_count": 35,
      "outputs": [
        {
          "output_type": "stream",
          "name": "stdout",
          "text": [
            "Epoch 1/50\n",
            "\u001b[1m946/946\u001b[0m \u001b[32m━━━━━━━━━━━━━━━━━━━━\u001b[0m\u001b[37m\u001b[0m \u001b[1m134s\u001b[0m 134ms/step - accuracy: 0.9347 - loss: 0.1676 - val_accuracy: 0.9622 - val_loss: 0.1065\n",
            "Epoch 2/50\n",
            "\u001b[1m946/946\u001b[0m \u001b[32m━━━━━━━━━━━━━━━━━━━━\u001b[0m\u001b[37m\u001b[0m \u001b[1m119s\u001b[0m 125ms/step - accuracy: 0.9567 - loss: 0.1144 - val_accuracy: 0.9573 - val_loss: 0.1095\n",
            "Epoch 3/50\n",
            "\u001b[1m946/946\u001b[0m \u001b[32m━━━━━━━━━━━━━━━━━━━━\u001b[0m\u001b[37m\u001b[0m \u001b[1m119s\u001b[0m 125ms/step - accuracy: 0.9631 - loss: 0.0964 - val_accuracy: 0.9675 - val_loss: 0.0821\n",
            "Epoch 4/50\n",
            "\u001b[1m946/946\u001b[0m \u001b[32m━━━━━━━━━━━━━━━━━━━━\u001b[0m\u001b[37m\u001b[0m \u001b[1m119s\u001b[0m 125ms/step - accuracy: 0.9638 - loss: 0.0938 - val_accuracy: 0.9670 - val_loss: 0.0847\n",
            "Epoch 5/50\n",
            "\u001b[1m946/946\u001b[0m \u001b[32m━━━━━━━━━━━━━━━━━━━━\u001b[0m\u001b[37m\u001b[0m \u001b[1m119s\u001b[0m 125ms/step - accuracy: 0.9694 - loss: 0.0816 - val_accuracy: 0.9662 - val_loss: 0.0890\n",
            "Epoch 6/50\n",
            "\u001b[1m946/946\u001b[0m \u001b[32m━━━━━━━━━━━━━━━━━━━━\u001b[0m\u001b[37m\u001b[0m \u001b[1m119s\u001b[0m 125ms/step - accuracy: 0.9694 - loss: 0.0764 - val_accuracy: 0.9713 - val_loss: 0.0789\n",
            "Epoch 7/50\n",
            "\u001b[1m946/946\u001b[0m \u001b[32m━━━━━━━━━━━━━━━━━━━━\u001b[0m\u001b[37m\u001b[0m \u001b[1m119s\u001b[0m 125ms/step - accuracy: 0.9731 - loss: 0.0734 - val_accuracy: 0.9737 - val_loss: 0.0745\n",
            "Epoch 8/50\n",
            "\u001b[1m946/946\u001b[0m \u001b[32m━━━━━━━━━━━━━━━━━━━━\u001b[0m\u001b[37m\u001b[0m \u001b[1m119s\u001b[0m 124ms/step - accuracy: 0.9737 - loss: 0.0710 - val_accuracy: 0.9744 - val_loss: 0.0744\n",
            "Epoch 9/50\n",
            "\u001b[1m946/946\u001b[0m \u001b[32m━━━━━━━━━━━━━━━━━━━━\u001b[0m\u001b[37m\u001b[0m \u001b[1m120s\u001b[0m 126ms/step - accuracy: 0.9766 - loss: 0.0656 - val_accuracy: 0.9675 - val_loss: 0.0876\n",
            "Epoch 10/50\n",
            "\u001b[1m946/946\u001b[0m \u001b[32m━━━━━━━━━━━━━━━━━━━━\u001b[0m\u001b[37m\u001b[0m \u001b[1m119s\u001b[0m 125ms/step - accuracy: 0.9769 - loss: 0.0630 - val_accuracy: 0.9711 - val_loss: 0.0851\n",
            "Epoch 11/50\n",
            "\u001b[1m946/946\u001b[0m \u001b[32m━━━━━━━━━━━━━━━━━━━━\u001b[0m\u001b[37m\u001b[0m \u001b[1m120s\u001b[0m 126ms/step - accuracy: 0.9784 - loss: 0.0582 - val_accuracy: 0.9719 - val_loss: 0.0737\n",
            "Epoch 12/50\n",
            "\u001b[1m946/946\u001b[0m \u001b[32m━━━━━━━━━━━━━━━━━━━━\u001b[0m\u001b[37m\u001b[0m \u001b[1m119s\u001b[0m 125ms/step - accuracy: 0.9783 - loss: 0.0563 - val_accuracy: 0.9770 - val_loss: 0.0688\n",
            "Epoch 13/50\n",
            "\u001b[1m946/946\u001b[0m \u001b[32m━━━━━━━━━━━━━━━━━━━━\u001b[0m\u001b[37m\u001b[0m \u001b[1m119s\u001b[0m 125ms/step - accuracy: 0.9795 - loss: 0.0541 - val_accuracy: 0.9698 - val_loss: 0.0855\n",
            "Epoch 14/50\n",
            "\u001b[1m946/946\u001b[0m \u001b[32m━━━━━━━━━━━━━━━━━━━━\u001b[0m\u001b[37m\u001b[0m \u001b[1m118s\u001b[0m 124ms/step - accuracy: 0.9812 - loss: 0.0525 - val_accuracy: 0.9729 - val_loss: 0.0773\n",
            "Epoch 15/50\n",
            "\u001b[1m946/946\u001b[0m \u001b[32m━━━━━━━━━━━━━━━━━━━━\u001b[0m\u001b[37m\u001b[0m \u001b[1m120s\u001b[0m 126ms/step - accuracy: 0.9824 - loss: 0.0476 - val_accuracy: 0.9740 - val_loss: 0.0721\n",
            "Epoch 16/50\n",
            "\u001b[1m946/946\u001b[0m \u001b[32m━━━━━━━━━━━━━━━━━━━━\u001b[0m\u001b[37m\u001b[0m \u001b[1m120s\u001b[0m 126ms/step - accuracy: 0.9825 - loss: 0.0473 - val_accuracy: 0.9767 - val_loss: 0.0720\n",
            "Epoch 17/50\n",
            "\u001b[1m946/946\u001b[0m \u001b[32m━━━━━━━━━━━━━━━━━━━━\u001b[0m\u001b[37m\u001b[0m \u001b[1m121s\u001b[0m 127ms/step - accuracy: 0.9840 - loss: 0.0415 - val_accuracy: 0.9710 - val_loss: 0.0824\n",
            "Epoch 18/50\n",
            "\u001b[1m946/946\u001b[0m \u001b[32m━━━━━━━━━━━━━━━━━━━━\u001b[0m\u001b[37m\u001b[0m \u001b[1m119s\u001b[0m 124ms/step - accuracy: 0.9846 - loss: 0.0430 - val_accuracy: 0.9749 - val_loss: 0.0751\n",
            "Epoch 19/50\n",
            "\u001b[1m946/946\u001b[0m \u001b[32m━━━━━━━━━━━━━━━━━━━━\u001b[0m\u001b[37m\u001b[0m \u001b[1m120s\u001b[0m 126ms/step - accuracy: 0.9847 - loss: 0.0436 - val_accuracy: 0.9746 - val_loss: 0.0861\n",
            "Epoch 20/50\n",
            "\u001b[1m946/946\u001b[0m \u001b[32m━━━━━━━━━━━━━━━━━━━━\u001b[0m\u001b[37m\u001b[0m \u001b[1m120s\u001b[0m 127ms/step - accuracy: 0.9850 - loss: 0.0398 - val_accuracy: 0.9733 - val_loss: 0.0801\n",
            "Epoch 21/50\n",
            "\u001b[1m946/946\u001b[0m \u001b[32m━━━━━━━━━━━━━━━━━━━━\u001b[0m\u001b[37m\u001b[0m \u001b[1m120s\u001b[0m 126ms/step - accuracy: 0.9864 - loss: 0.0389 - val_accuracy: 0.9778 - val_loss: 0.0746\n",
            "Epoch 22/50\n",
            "\u001b[1m946/946\u001b[0m \u001b[32m━━━━━━━━━━━━━━━━━━━━\u001b[0m\u001b[37m\u001b[0m \u001b[1m119s\u001b[0m 125ms/step - accuracy: 0.9869 - loss: 0.0351 - val_accuracy: 0.9789 - val_loss: 0.0723\n",
            "Epoch 23/50\n",
            "\u001b[1m946/946\u001b[0m \u001b[32m━━━━━━━━━━━━━━━━━━━━\u001b[0m\u001b[37m\u001b[0m \u001b[1m120s\u001b[0m 126ms/step - accuracy: 0.9870 - loss: 0.0382 - val_accuracy: 0.9789 - val_loss: 0.0776\n",
            "Epoch 24/50\n",
            "\u001b[1m946/946\u001b[0m \u001b[32m━━━━━━━━━━━━━━━━━━━━\u001b[0m\u001b[37m\u001b[0m \u001b[1m119s\u001b[0m 125ms/step - accuracy: 0.9860 - loss: 0.0368 - val_accuracy: 0.9767 - val_loss: 0.0802\n",
            "Epoch 25/50\n",
            "\u001b[1m946/946\u001b[0m \u001b[32m━━━━━━━━━━━━━━━━━━━━\u001b[0m\u001b[37m\u001b[0m \u001b[1m119s\u001b[0m 125ms/step - accuracy: 0.9872 - loss: 0.0331 - val_accuracy: 0.9805 - val_loss: 0.0784\n",
            "Epoch 26/50\n",
            "\u001b[1m946/946\u001b[0m \u001b[32m━━━━━━━━━━━━━━━━━━━━\u001b[0m\u001b[37m\u001b[0m \u001b[1m117s\u001b[0m 123ms/step - accuracy: 0.9883 - loss: 0.0303 - val_accuracy: 0.9779 - val_loss: 0.0765\n",
            "Epoch 27/50\n",
            "\u001b[1m946/946\u001b[0m \u001b[32m━━━━━━━━━━━━━━━━━━━━\u001b[0m\u001b[37m\u001b[0m \u001b[1m120s\u001b[0m 126ms/step - accuracy: 0.9890 - loss: 0.0308 - val_accuracy: 0.9795 - val_loss: 0.0701\n",
            "Epoch 28/50\n",
            "\u001b[1m946/946\u001b[0m \u001b[32m━━━━━━━━━━━━━━━━━━━━\u001b[0m\u001b[37m\u001b[0m \u001b[1m120s\u001b[0m 126ms/step - accuracy: 0.9896 - loss: 0.0297 - val_accuracy: 0.9795 - val_loss: 0.0769\n",
            "Epoch 29/50\n",
            "\u001b[1m946/946\u001b[0m \u001b[32m━━━━━━━━━━━━━━━━━━━━\u001b[0m\u001b[37m\u001b[0m \u001b[1m121s\u001b[0m 127ms/step - accuracy: 0.9916 - loss: 0.0244 - val_accuracy: 0.9775 - val_loss: 0.0869\n",
            "Epoch 30/50\n",
            "\u001b[1m946/946\u001b[0m \u001b[32m━━━━━━━━━━━━━━━━━━━━\u001b[0m\u001b[37m\u001b[0m \u001b[1m119s\u001b[0m 125ms/step - accuracy: 0.9899 - loss: 0.0275 - val_accuracy: 0.9751 - val_loss: 0.0880\n",
            "Epoch 31/50\n",
            "\u001b[1m946/946\u001b[0m \u001b[32m━━━━━━━━━━━━━━━━━━━━\u001b[0m\u001b[37m\u001b[0m \u001b[1m118s\u001b[0m 124ms/step - accuracy: 0.9894 - loss: 0.0296 - val_accuracy: 0.9763 - val_loss: 0.0921\n",
            "Epoch 32/50\n",
            "\u001b[1m946/946\u001b[0m \u001b[32m━━━━━━━━━━━━━━━━━━━━\u001b[0m\u001b[37m\u001b[0m \u001b[1m121s\u001b[0m 127ms/step - accuracy: 0.9885 - loss: 0.0299 - val_accuracy: 0.9784 - val_loss: 0.0775\n",
            "Epoch 33/50\n",
            "\u001b[1m946/946\u001b[0m \u001b[32m━━━━━━━━━━━━━━━━━━━━\u001b[0m\u001b[37m\u001b[0m \u001b[1m119s\u001b[0m 125ms/step - accuracy: 0.9896 - loss: 0.0264 - val_accuracy: 0.9768 - val_loss: 0.0883\n",
            "Epoch 34/50\n",
            "\u001b[1m946/946\u001b[0m \u001b[32m━━━━━━━━━━━━━━━━━━━━\u001b[0m\u001b[37m\u001b[0m \u001b[1m121s\u001b[0m 127ms/step - accuracy: 0.9901 - loss: 0.0262 - val_accuracy: 0.9802 - val_loss: 0.0950\n",
            "Epoch 35/50\n",
            "\u001b[1m946/946\u001b[0m \u001b[32m━━━━━━━━━━━━━━━━━━━━\u001b[0m\u001b[37m\u001b[0m \u001b[1m121s\u001b[0m 127ms/step - accuracy: 0.9901 - loss: 0.0262 - val_accuracy: 0.9781 - val_loss: 0.0807\n",
            "Epoch 36/50\n",
            "\u001b[1m946/946\u001b[0m \u001b[32m━━━━━━━━━━━━━━━━━━━━\u001b[0m\u001b[37m\u001b[0m \u001b[1m120s\u001b[0m 126ms/step - accuracy: 0.9904 - loss: 0.0239 - val_accuracy: 0.9813 - val_loss: 0.0832\n",
            "Epoch 37/50\n",
            "\u001b[1m946/946\u001b[0m \u001b[32m━━━━━━━━━━━━━━━━━━━━\u001b[0m\u001b[37m\u001b[0m \u001b[1m119s\u001b[0m 125ms/step - accuracy: 0.9908 - loss: 0.0252 - val_accuracy: 0.9770 - val_loss: 0.0836\n",
            "Epoch 38/50\n",
            "\u001b[1m946/946\u001b[0m \u001b[32m━━━━━━━━━━━━━━━━━━━━\u001b[0m\u001b[37m\u001b[0m \u001b[1m118s\u001b[0m 124ms/step - accuracy: 0.9919 - loss: 0.0206 - val_accuracy: 0.9779 - val_loss: 0.0851\n",
            "Epoch 39/50\n",
            "\u001b[1m946/946\u001b[0m \u001b[32m━━━━━━━━━━━━━━━━━━━━\u001b[0m\u001b[37m\u001b[0m \u001b[1m118s\u001b[0m 124ms/step - accuracy: 0.9931 - loss: 0.0214 - val_accuracy: 0.9786 - val_loss: 0.0889\n",
            "Epoch 40/50\n",
            "\u001b[1m946/946\u001b[0m \u001b[32m━━━━━━━━━━━━━━━━━━━━\u001b[0m\u001b[37m\u001b[0m \u001b[1m120s\u001b[0m 126ms/step - accuracy: 0.9916 - loss: 0.0217 - val_accuracy: 0.9802 - val_loss: 0.0798\n",
            "Epoch 41/50\n",
            "\u001b[1m946/946\u001b[0m \u001b[32m━━━━━━━━━━━━━━━━━━━━\u001b[0m\u001b[37m\u001b[0m \u001b[1m118s\u001b[0m 124ms/step - accuracy: 0.9914 - loss: 0.0229 - val_accuracy: 0.9713 - val_loss: 0.1041\n",
            "Epoch 42/50\n",
            "\u001b[1m946/946\u001b[0m \u001b[32m━━━━━━━━━━━━━━━━━━━━\u001b[0m\u001b[37m\u001b[0m \u001b[1m119s\u001b[0m 125ms/step - accuracy: 0.9911 - loss: 0.0240 - val_accuracy: 0.9817 - val_loss: 0.0869\n",
            "Epoch 43/50\n",
            "\u001b[1m946/946\u001b[0m \u001b[32m━━━━━━━━━━━━━━━━━━━━\u001b[0m\u001b[37m\u001b[0m \u001b[1m119s\u001b[0m 125ms/step - accuracy: 0.9923 - loss: 0.0225 - val_accuracy: 0.9767 - val_loss: 0.0892\n",
            "Epoch 44/50\n",
            "\u001b[1m946/946\u001b[0m \u001b[32m━━━━━━━━━━━━━━━━━━━━\u001b[0m\u001b[37m\u001b[0m \u001b[1m120s\u001b[0m 126ms/step - accuracy: 0.9928 - loss: 0.0211 - val_accuracy: 0.9789 - val_loss: 0.0978\n",
            "Epoch 45/50\n",
            "\u001b[1m946/946\u001b[0m \u001b[32m━━━━━━━━━━━━━━━━━━━━\u001b[0m\u001b[37m\u001b[0m \u001b[1m119s\u001b[0m 125ms/step - accuracy: 0.9924 - loss: 0.0201 - val_accuracy: 0.9789 - val_loss: 0.0910\n",
            "Epoch 46/50\n",
            "\u001b[1m946/946\u001b[0m \u001b[32m━━━━━━━━━━━━━━━━━━━━\u001b[0m\u001b[37m\u001b[0m \u001b[1m120s\u001b[0m 126ms/step - accuracy: 0.9927 - loss: 0.0194 - val_accuracy: 0.9757 - val_loss: 0.0964\n",
            "Epoch 47/50\n",
            "\u001b[1m946/946\u001b[0m \u001b[32m━━━━━━━━━━━━━━━━━━━━\u001b[0m\u001b[37m\u001b[0m \u001b[1m119s\u001b[0m 125ms/step - accuracy: 0.9918 - loss: 0.0198 - val_accuracy: 0.9781 - val_loss: 0.0939\n",
            "Epoch 48/50\n",
            "\u001b[1m946/946\u001b[0m \u001b[32m━━━━━━━━━━━━━━━━━━━━\u001b[0m\u001b[37m\u001b[0m \u001b[1m121s\u001b[0m 127ms/step - accuracy: 0.9936 - loss: 0.0180 - val_accuracy: 0.9798 - val_loss: 0.1030\n",
            "Epoch 49/50\n",
            "\u001b[1m946/946\u001b[0m \u001b[32m━━━━━━━━━━━━━━━━━━━━\u001b[0m\u001b[37m\u001b[0m \u001b[1m120s\u001b[0m 126ms/step - accuracy: 0.9938 - loss: 0.0190 - val_accuracy: 0.9789 - val_loss: 0.0835\n",
            "Epoch 50/50\n",
            "\u001b[1m946/946\u001b[0m \u001b[32m━━━━━━━━━━━━━━━━━━━━\u001b[0m\u001b[37m\u001b[0m \u001b[1m121s\u001b[0m 127ms/step - accuracy: 0.9935 - loss: 0.0171 - val_accuracy: 0.9806 - val_loss: 0.0894\n"
          ]
        }
      ]
    },
    {
      "cell_type": "code",
      "source": [
        "hist = history.history\n",
        "\n",
        "plt.plot(hist['val_accuracy'], label='validation')\n",
        "\n",
        "plt.plot(hist['accuracy'], label='train')\n",
        "\n",
        "plt.legend()"
      ],
      "metadata": {
        "id": "72dYA2ifmrDr",
        "colab": {
          "base_uri": "https://localhost:8080/",
          "height": 447
        },
        "outputId": "1cdc9635-6553-45df-fe49-e0ffe51318a3"
      },
      "execution_count": 36,
      "outputs": [
        {
          "output_type": "execute_result",
          "data": {
            "text/plain": [
              "<matplotlib.legend.Legend at 0x7a88242bbdf0>"
            ]
          },
          "metadata": {},
          "execution_count": 36
        },
        {
          "output_type": "display_data",
          "data": {
            "text/plain": [
              "<Figure size 640x480 with 1 Axes>"
            ],
            "image/png": "[encoded data removed]"
          },
          "metadata": {}
        }
      ]
    },
    {
      "cell_type": "markdown",
      "source": [
        "##Final model"
      ],
      "metadata": {
        "id": "2_OQwY2mopjE"
      }
    },
    {
      "cell_type": "code",
      "source": [
        "# Create checkpoint\n",
        "checkpoint = ks.callbacks.ModelCheckpoint(\n",
        "    'xception_v1_{epoch:02d}_{val_accuracy:.3f}.keras',\n",
        "    save_best_only=True,\n",
        "    monitor='val_accuracy',\n",
        "    mode='max'#max monitor variable\n",
        ")"
      ],
      "metadata": {
        "id": "D_5NmTq_oqg7"
      },
      "execution_count": 37,
      "outputs": []
    },
    {
      "cell_type": "code",
      "source": [
        "model = create_model(\n",
        "    learning_rate,\n",
        "    size_inner,\n",
        "    drop_rate\n",
        ")\n",
        "\n",
        "history = model.fit(\n",
        "    train_ds, epochs=50,\n",
        "    validation_data=val_ds,\n",
        "    callbacks=[checkpoint]\n",
        ")"
      ],
      "metadata": {
        "id": "G0PA4sAkovwj",
        "colab": {
          "base_uri": "https://localhost:8080/"
        },
        "outputId": "76015413-1c15-4727-b67e-c6ddd9e94400"
      },
      "execution_count": 38,
      "outputs": [
        {
          "output_type": "stream",
          "name": "stdout",
          "text": [
            "Epoch 1/50\n",
            "\u001b[1m946/946\u001b[0m \u001b[32m━━━━━━━━━━━━━━━━━━━━\u001b[0m\u001b[37m\u001b[0m \u001b[1m132s\u001b[0m 132ms/step - accuracy: 0.9329 - loss: 0.1732 - val_accuracy: 0.9614 - val_loss: 0.1003\n",
            "Epoch 2/50\n",
            "\u001b[1m946/946\u001b[0m \u001b[32m━━━━━━━━━━━━━━━━━━━━\u001b[0m\u001b[37m\u001b[0m \u001b[1m119s\u001b[0m 125ms/step - accuracy: 0.9578 - loss: 0.1101 - val_accuracy: 0.9575 - val_loss: 0.1125\n",
            "Epoch 3/50\n",
            "\u001b[1m946/946\u001b[0m \u001b[32m━━━━━━━━━━━━━━━━━━━━\u001b[0m\u001b[37m\u001b[0m \u001b[1m120s\u001b[0m 126ms/step - accuracy: 0.9637 - loss: 0.0989 - val_accuracy: 0.9622 - val_loss: 0.1021\n",
            "Epoch 4/50\n",
            "\u001b[1m946/946\u001b[0m \u001b[32m━━━━━━━━━━━━━━━━━━━━\u001b[0m\u001b[37m\u001b[0m \u001b[1m120s\u001b[0m 126ms/step - accuracy: 0.9651 - loss: 0.0924 - val_accuracy: 0.9697 - val_loss: 0.0801\n",
            "Epoch 5/50\n",
            "\u001b[1m946/946\u001b[0m \u001b[32m━━━━━━━━━━━━━━━━━━━━\u001b[0m\u001b[37m\u001b[0m \u001b[1m121s\u001b[0m 127ms/step - accuracy: 0.9662 - loss: 0.0885 - val_accuracy: 0.9713 - val_loss: 0.0773\n",
            "Epoch 6/50\n",
            "\u001b[1m946/946\u001b[0m \u001b[32m━━━━━━━━━━━━━━━━━━━━\u001b[0m\u001b[37m\u001b[0m \u001b[1m119s\u001b[0m 125ms/step - accuracy: 0.9676 - loss: 0.0845 - val_accuracy: 0.9714 - val_loss: 0.0804\n",
            "Epoch 7/50\n",
            "\u001b[1m946/946\u001b[0m \u001b[32m━━━━━━━━━━━━━━━━━━━━\u001b[0m\u001b[37m\u001b[0m \u001b[1m121s\u001b[0m 127ms/step - accuracy: 0.9729 - loss: 0.0714 - val_accuracy: 0.9716 - val_loss: 0.0777\n",
            "Epoch 8/50\n",
            "\u001b[1m946/946\u001b[0m \u001b[32m━━━━━━━━━━━━━━━━━━━━\u001b[0m\u001b[37m\u001b[0m \u001b[1m118s\u001b[0m 124ms/step - accuracy: 0.9718 - loss: 0.0757 - val_accuracy: 0.9754 - val_loss: 0.0726\n",
            "Epoch 9/50\n",
            "\u001b[1m946/946\u001b[0m \u001b[32m━━━━━━━━━━━━━━━━━━━━\u001b[0m\u001b[37m\u001b[0m \u001b[1m119s\u001b[0m 125ms/step - accuracy: 0.9723 - loss: 0.0669 - val_accuracy: 0.9730 - val_loss: 0.0732\n",
            "Epoch 10/50\n",
            "\u001b[1m946/946\u001b[0m \u001b[32m━━━━━━━━━━━━━━━━━━━━\u001b[0m\u001b[37m\u001b[0m \u001b[1m118s\u001b[0m 124ms/step - accuracy: 0.9777 - loss: 0.0603 - val_accuracy: 0.9741 - val_loss: 0.0733\n",
            "Epoch 11/50\n",
            "\u001b[1m946/946\u001b[0m \u001b[32m━━━━━━━━━━━━━━━━━━━━\u001b[0m\u001b[37m\u001b[0m \u001b[1m119s\u001b[0m 125ms/step - accuracy: 0.9780 - loss: 0.0582 - val_accuracy: 0.9711 - val_loss: 0.0782\n",
            "Epoch 12/50\n",
            "\u001b[1m946/946\u001b[0m \u001b[32m━━━━━━━━━━━━━━━━━━━━\u001b[0m\u001b[37m\u001b[0m \u001b[1m119s\u001b[0m 125ms/step - accuracy: 0.9798 - loss: 0.0561 - val_accuracy: 0.9717 - val_loss: 0.0773\n",
            "Epoch 13/50\n",
            "\u001b[1m946/946\u001b[0m \u001b[32m━━━━━━━━━━━━━━━━━━━━\u001b[0m\u001b[37m\u001b[0m \u001b[1m120s\u001b[0m 126ms/step - accuracy: 0.9808 - loss: 0.0536 - val_accuracy: 0.9667 - val_loss: 0.0969\n",
            "Epoch 14/50\n",
            "\u001b[1m946/946\u001b[0m \u001b[32m━━━━━━━━━━━━━━━━━━━━\u001b[0m\u001b[37m\u001b[0m \u001b[1m117s\u001b[0m 123ms/step - accuracy: 0.9796 - loss: 0.0545 - val_accuracy: 0.9738 - val_loss: 0.0829\n",
            "Epoch 15/50\n",
            "\u001b[1m946/946\u001b[0m \u001b[32m━━━━━━━━━━━━━━━━━━━━\u001b[0m\u001b[37m\u001b[0m \u001b[1m118s\u001b[0m 124ms/step - accuracy: 0.9829 - loss: 0.0462 - val_accuracy: 0.9757 - val_loss: 0.0783\n",
            "Epoch 16/50\n",
            "\u001b[1m946/946\u001b[0m \u001b[32m━━━━━━━━━━━━━━━━━━━━\u001b[0m\u001b[37m\u001b[0m \u001b[1m120s\u001b[0m 126ms/step - accuracy: 0.9821 - loss: 0.0484 - val_accuracy: 0.9770 - val_loss: 0.0707\n",
            "Epoch 17/50\n",
            "\u001b[1m946/946\u001b[0m \u001b[32m━━━━━━━━━━━━━━━━━━━━\u001b[0m\u001b[37m\u001b[0m \u001b[1m119s\u001b[0m 125ms/step - accuracy: 0.9805 - loss: 0.0468 - val_accuracy: 0.9751 - val_loss: 0.0753\n",
            "Epoch 18/50\n",
            "\u001b[1m946/946\u001b[0m \u001b[32m━━━━━━━━━━━━━━━━━━━━\u001b[0m\u001b[37m\u001b[0m \u001b[1m118s\u001b[0m 124ms/step - accuracy: 0.9826 - loss: 0.0451 - val_accuracy: 0.9770 - val_loss: 0.0710\n",
            "Epoch 19/50\n",
            "\u001b[1m946/946\u001b[0m \u001b[32m━━━━━━━━━━━━━━━━━━━━\u001b[0m\u001b[37m\u001b[0m \u001b[1m118s\u001b[0m 124ms/step - accuracy: 0.9848 - loss: 0.0414 - val_accuracy: 0.9737 - val_loss: 0.0829\n",
            "Epoch 20/50\n",
            "\u001b[1m946/946\u001b[0m \u001b[32m━━━━━━━━━━━━━━━━━━━━\u001b[0m\u001b[37m\u001b[0m \u001b[1m119s\u001b[0m 126ms/step - accuracy: 0.9857 - loss: 0.0412 - val_accuracy: 0.9790 - val_loss: 0.0725\n",
            "Epoch 21/50\n",
            "\u001b[1m946/946\u001b[0m \u001b[32m━━━━━━━━━━━━━━━━━━━━\u001b[0m\u001b[37m\u001b[0m \u001b[1m119s\u001b[0m 125ms/step - accuracy: 0.9868 - loss: 0.0364 - val_accuracy: 0.9705 - val_loss: 0.1006\n",
            "Epoch 22/50\n",
            "\u001b[1m946/946\u001b[0m \u001b[32m━━━━━━━━━━━━━━━━━━━━\u001b[0m\u001b[37m\u001b[0m \u001b[1m119s\u001b[0m 125ms/step - accuracy: 0.9857 - loss: 0.0385 - val_accuracy: 0.9784 - val_loss: 0.0791\n",
            "Epoch 23/50\n",
            "\u001b[1m946/946\u001b[0m \u001b[32m━━━━━━━━━━━━━━━━━━━━\u001b[0m\u001b[37m\u001b[0m \u001b[1m121s\u001b[0m 127ms/step - accuracy: 0.9860 - loss: 0.0376 - val_accuracy: 0.9784 - val_loss: 0.0789\n",
            "Epoch 24/50\n",
            "\u001b[1m946/946\u001b[0m \u001b[32m━━━━━━━━━━━━━━━━━━━━\u001b[0m\u001b[37m\u001b[0m \u001b[1m120s\u001b[0m 126ms/step - accuracy: 0.9867 - loss: 0.0349 - val_accuracy: 0.9765 - val_loss: 0.0819\n",
            "Epoch 25/50\n",
            "\u001b[1m946/946\u001b[0m \u001b[32m━━━━━━━━━━━━━━━━━━━━\u001b[0m\u001b[37m\u001b[0m \u001b[1m119s\u001b[0m 125ms/step - accuracy: 0.9875 - loss: 0.0340 - val_accuracy: 0.9748 - val_loss: 0.0926\n",
            "Epoch 26/50\n",
            "\u001b[1m946/946\u001b[0m \u001b[32m━━━━━━━━━━━━━━━━━━━━\u001b[0m\u001b[37m\u001b[0m \u001b[1m121s\u001b[0m 127ms/step - accuracy: 0.9869 - loss: 0.0356 - val_accuracy: 0.9803 - val_loss: 0.0767\n",
            "Epoch 27/50\n",
            "\u001b[1m946/946\u001b[0m \u001b[32m━━━━━━━━━━━━━━━━━━━━\u001b[0m\u001b[37m\u001b[0m \u001b[1m119s\u001b[0m 125ms/step - accuracy: 0.9882 - loss: 0.0312 - val_accuracy: 0.9767 - val_loss: 0.0851\n",
            "Epoch 28/50\n",
            "\u001b[1m946/946\u001b[0m \u001b[32m━━━━━━━━━━━━━━━━━━━━\u001b[0m\u001b[37m\u001b[0m \u001b[1m120s\u001b[0m 126ms/step - accuracy: 0.9876 - loss: 0.0330 - val_accuracy: 0.9792 - val_loss: 0.0780\n",
            "Epoch 29/50\n",
            "\u001b[1m946/946\u001b[0m \u001b[32m━━━━━━━━━━━━━━━━━━━━\u001b[0m\u001b[37m\u001b[0m \u001b[1m120s\u001b[0m 126ms/step - accuracy: 0.9878 - loss: 0.0329 - val_accuracy: 0.9757 - val_loss: 0.0958\n",
            "Epoch 30/50\n",
            "\u001b[1m946/946\u001b[0m \u001b[32m━━━━━━━━━━━━━━━━━━━━\u001b[0m\u001b[37m\u001b[0m \u001b[1m121s\u001b[0m 128ms/step - accuracy: 0.9891 - loss: 0.0311 - val_accuracy: 0.9792 - val_loss: 0.0816\n",
            "Epoch 31/50\n",
            "\u001b[1m946/946\u001b[0m \u001b[32m━━━━━━━━━━━━━━━━━━━━\u001b[0m\u001b[37m\u001b[0m \u001b[1m120s\u001b[0m 126ms/step - accuracy: 0.9890 - loss: 0.0302 - val_accuracy: 0.9714 - val_loss: 0.1010\n",
            "Epoch 32/50\n",
            "\u001b[1m946/946\u001b[0m \u001b[32m━━━━━━━━━━━━━━━━━━━━\u001b[0m\u001b[37m\u001b[0m \u001b[1m119s\u001b[0m 125ms/step - accuracy: 0.9887 - loss: 0.0275 - val_accuracy: 0.9760 - val_loss: 0.1007\n",
            "Epoch 33/50\n",
            "\u001b[1m946/946\u001b[0m \u001b[32m━━━━━━━━━━━━━━━━━━━━\u001b[0m\u001b[37m\u001b[0m \u001b[1m120s\u001b[0m 126ms/step - accuracy: 0.9897 - loss: 0.0263 - val_accuracy: 0.9751 - val_loss: 0.0999\n",
            "Epoch 34/50\n",
            "\u001b[1m946/946\u001b[0m \u001b[32m━━━━━━━━━━━━━━━━━━━━\u001b[0m\u001b[37m\u001b[0m \u001b[1m121s\u001b[0m 127ms/step - accuracy: 0.9888 - loss: 0.0280 - val_accuracy: 0.9765 - val_loss: 0.0918\n",
            "Epoch 35/50\n",
            "\u001b[1m946/946\u001b[0m \u001b[32m━━━━━━━━━━━━━━━━━━━━\u001b[0m\u001b[37m\u001b[0m \u001b[1m118s\u001b[0m 124ms/step - accuracy: 0.9905 - loss: 0.0251 - val_accuracy: 0.9770 - val_loss: 0.0919\n",
            "Epoch 36/50\n",
            "\u001b[1m946/946\u001b[0m \u001b[32m━━━━━━━━━━━━━━━━━━━━\u001b[0m\u001b[37m\u001b[0m \u001b[1m120s\u001b[0m 127ms/step - accuracy: 0.9899 - loss: 0.0282 - val_accuracy: 0.9779 - val_loss: 0.0812\n",
            "Epoch 37/50\n",
            "\u001b[1m946/946\u001b[0m \u001b[32m━━━━━━━━━━━━━━━━━━━━\u001b[0m\u001b[37m\u001b[0m \u001b[1m119s\u001b[0m 125ms/step - accuracy: 0.9896 - loss: 0.0265 - val_accuracy: 0.9760 - val_loss: 0.0914\n",
            "Epoch 38/50\n",
            "\u001b[1m946/946\u001b[0m \u001b[32m━━━━━━━━━━━━━━━━━━━━\u001b[0m\u001b[37m\u001b[0m \u001b[1m118s\u001b[0m 124ms/step - accuracy: 0.9904 - loss: 0.0259 - val_accuracy: 0.9784 - val_loss: 0.0868\n",
            "Epoch 39/50\n",
            "\u001b[1m946/946\u001b[0m \u001b[32m━━━━━━━━━━━━━━━━━━━━\u001b[0m\u001b[37m\u001b[0m \u001b[1m119s\u001b[0m 125ms/step - accuracy: 0.9915 - loss: 0.0230 - val_accuracy: 0.9757 - val_loss: 0.1094\n",
            "Epoch 40/50\n",
            "\u001b[1m946/946\u001b[0m \u001b[32m━━━━━━━━━━━━━━━━━━━━\u001b[0m\u001b[37m\u001b[0m \u001b[1m119s\u001b[0m 125ms/step - accuracy: 0.9921 - loss: 0.0223 - val_accuracy: 0.9725 - val_loss: 0.1196\n",
            "Epoch 41/50\n",
            "\u001b[1m946/946\u001b[0m \u001b[32m━━━━━━━━━━━━━━━━━━━━\u001b[0m\u001b[37m\u001b[0m \u001b[1m119s\u001b[0m 125ms/step - accuracy: 0.9905 - loss: 0.0244 - val_accuracy: 0.9746 - val_loss: 0.1032\n",
            "Epoch 42/50\n",
            "\u001b[1m946/946\u001b[0m \u001b[32m━━━━━━━━━━━━━━━━━━━━\u001b[0m\u001b[37m\u001b[0m \u001b[1m121s\u001b[0m 127ms/step - accuracy: 0.9929 - loss: 0.0198 - val_accuracy: 0.9803 - val_loss: 0.0823\n",
            "Epoch 43/50\n",
            "\u001b[1m946/946\u001b[0m \u001b[32m━━━━━━━━━━━━━━━━━━━━\u001b[0m\u001b[37m\u001b[0m \u001b[1m118s\u001b[0m 124ms/step - accuracy: 0.9937 - loss: 0.0188 - val_accuracy: 0.9790 - val_loss: 0.0993\n",
            "Epoch 44/50\n",
            "\u001b[1m946/946\u001b[0m \u001b[32m━━━━━━━━━━━━━━━━━━━━\u001b[0m\u001b[37m\u001b[0m \u001b[1m120s\u001b[0m 126ms/step - accuracy: 0.9902 - loss: 0.0254 - val_accuracy: 0.9802 - val_loss: 0.0888\n",
            "Epoch 45/50\n",
            "\u001b[1m946/946\u001b[0m \u001b[32m━━━━━━━━━━━━━━━━━━━━\u001b[0m\u001b[37m\u001b[0m \u001b[1m121s\u001b[0m 127ms/step - accuracy: 0.9905 - loss: 0.0244 - val_accuracy: 0.9783 - val_loss: 0.0876\n",
            "Epoch 46/50\n",
            "\u001b[1m946/946\u001b[0m \u001b[32m━━━━━━━━━━━━━━━━━━━━\u001b[0m\u001b[37m\u001b[0m \u001b[1m121s\u001b[0m 127ms/step - accuracy: 0.9931 - loss: 0.0192 - val_accuracy: 0.9792 - val_loss: 0.1000\n",
            "Epoch 47/50\n",
            "\u001b[1m946/946\u001b[0m \u001b[32m━━━━━━━━━━━━━━━━━━━━\u001b[0m\u001b[37m\u001b[0m \u001b[1m120s\u001b[0m 126ms/step - accuracy: 0.9912 - loss: 0.0231 - val_accuracy: 0.9773 - val_loss: 0.0873\n",
            "Epoch 48/50\n",
            "\u001b[1m946/946\u001b[0m \u001b[32m━━━━━━━━━━━━━━━━━━━━\u001b[0m\u001b[37m\u001b[0m \u001b[1m119s\u001b[0m 125ms/step - accuracy: 0.9912 - loss: 0.0227 - val_accuracy: 0.9787 - val_loss: 0.0933\n",
            "Epoch 49/50\n",
            "\u001b[1m946/946\u001b[0m \u001b[32m━━━━━━━━━━━━━━━━━━━━\u001b[0m\u001b[37m\u001b[0m \u001b[1m120s\u001b[0m 126ms/step - accuracy: 0.9936 - loss: 0.0177 - val_accuracy: 0.9759 - val_loss: 0.1008\n",
            "Epoch 50/50\n",
            "\u001b[1m946/946\u001b[0m \u001b[32m━━━━━━━━━━━━━━━━━━━━\u001b[0m\u001b[37m\u001b[0m \u001b[1m120s\u001b[0m 126ms/step - accuracy: 0.9927 - loss: 0.0194 - val_accuracy: 0.9798 - val_loss: 0.0988\n"
          ]
        }
      ]
    },
    {
      "cell_type": "markdown",
      "source": [
        "##Test model"
      ],
      "metadata": {
        "id": "QcJC--u0poJB"
      }
    },
    {
      "cell_type": "code",
      "source": [
        "\n",
        "test_gen = ImageDataGenerator(preprocessing_function=preprocess_input)\n",
        "\n",
        "test_ds = test_gen.flow_from_directory(\n",
        "    '/content/datasets/test',\n",
        "    target_size=(350, 350),\n",
        "    batch_size=32,\n",
        "    shuffle=False\n",
        ")\n"
      ],
      "metadata": {
        "colab": {
          "base_uri": "https://localhost:8080/"
        },
        "id": "IgClpZcnap10",
        "outputId": "4ac79833-955b-4a10-d4af-4c145b60c5fe"
      },
      "execution_count": 40,
      "outputs": [
        {
          "output_type": "stream",
          "name": "stdout",
          "text": [
            "Found 6300 images belonging to 2 classes.\n"
          ]
        }
      ]
    },
    {
      "cell_type": "code",
      "source": [
        "model = ks.models.load_model('/content/xception_v1_26_0.980.keras')\n",
        "\n",
        "model.evaluate(test_ds)\n",
        "\n",
        "path = '/content/datasets/test/wildfire/-59.03238,51.85132.jpg'\n",
        "\n",
        "img = ks.preprocessing.image.load_img(path, target_size=(350, 350))\n",
        "\n",
        "x = np.array(img)\n",
        "X = np.array([x])\n",
        "\n",
        "X = preprocess_input(X)\n",
        "\n",
        "pred = model.predict(X)\n",
        "\n",
        "classes = [\n",
        "    'nowildfire',\n",
        "    'wildfire'\n",
        "]\n",
        "\n",
        "dict(zip(classes, pred[0]))"
      ],
      "metadata": {
        "id": "_FtMxAmiqZlg",
        "colab": {
          "base_uri": "https://localhost:8080/"
        },
        "outputId": "b6ad340a-be60-4b08-fab5-586bce8ef57f"
      },
      "execution_count": 41,
      "outputs": [
        {
          "output_type": "stream",
          "name": "stdout",
          "text": [
            "\u001b[1m197/197\u001b[0m \u001b[32m━━━━━━━━━━━━━━━━━━━━\u001b[0m\u001b[37m\u001b[0m \u001b[1m24s\u001b[0m 103ms/step - accuracy: 0.9873 - loss: 0.0395\n",
            "\u001b[1m1/1\u001b[0m \u001b[32m━━━━━━━━━━━━━━━━━━━━\u001b[0m\u001b[37m\u001b[0m \u001b[1m3s\u001b[0m 3s/step\n"
          ]
        },
        {
          "output_type": "execute_result",
          "data": {
            "text/plain": [
              "{'nowildfire': -2.2755034, 'wildfire': 1.4563954}"
            ]
          },
          "metadata": {},
          "execution_count": 41
        }
      ]
    },
    {
      "cell_type": "markdown",
      "source": [
        "##Convert model to TF-Lite"
      ],
      "metadata": {
        "id": "9faTvbiNsd7k"
      }
    },
    {
      "cell_type": "code",
      "source": [
        "converter = tf.lite.TFLiteConverter.from_keras_model(model)\n",
        "\n",
        "tflite_model = converter.convert()\n",
        "\n",
        "with open('model.tflite', 'wb') as f_out:\n",
        "    f_out.write(tflite_model)"
      ],
      "metadata": {
        "id": "Lgyiv6mkso9X",
        "colab": {
          "base_uri": "https://localhost:8080/"
        },
        "outputId": "f1c73361-36aa-4444-e023-7c58458ff828"
      },
      "execution_count": 42,
      "outputs": [
        {
          "output_type": "stream",
          "name": "stdout",
          "text": [
            "Saved artifact at '/tmp/tmpk6fwl5wn'. The following endpoints are available:\n",
            "\n",
            "* Endpoint 'serve'\n",
            "  args_0 (POSITIONAL_ONLY): TensorSpec(shape=(None, 350, 350, 3), dtype=tf.float32, name='input_layer_19')\n",
            "Output Type:\n",
            "  TensorSpec(shape=(None, 2), dtype=tf.float32, name=None)\n",
            "Captures:\n",
            "  134725152036944: TensorSpec(shape=(), dtype=tf.resource, name=None)\n",
            "  134725152080640: TensorSpec(shape=(), dtype=tf.resource, name=None)\n",
            "  134725152082752: TensorSpec(shape=(), dtype=tf.resource, name=None)\n",
            "  134725152043104: TensorSpec(shape=(), dtype=tf.resource, name=None)\n",
            "  134725152045392: TensorSpec(shape=(), dtype=tf.resource, name=None)\n",
            "  134725152044160: TensorSpec(shape=(), dtype=tf.resource, name=None)\n",
            "  134725152089792: TensorSpec(shape=(), dtype=tf.resource, name=None)\n",
            "  134725152092960: TensorSpec(shape=(), dtype=tf.resource, name=None)\n",
            "  134725152088912: TensorSpec(shape=(), dtype=tf.resource, name=None)\n",
            "  134725152092256: TensorSpec(shape=(), dtype=tf.resource, name=None)\n",
            "  134725152091024: TensorSpec(shape=(), dtype=tf.resource, name=None)\n",
            "  134725152093664: TensorSpec(shape=(), dtype=tf.resource, name=None)\n",
            "  134725152132432: TensorSpec(shape=(), dtype=tf.resource, name=None)\n",
            "  134725152133312: TensorSpec(shape=(), dtype=tf.resource, name=None)\n",
            "  134725152129440: TensorSpec(shape=(), dtype=tf.resource, name=None)\n",
            "  134725152132080: TensorSpec(shape=(), dtype=tf.resource, name=None)\n",
            "  134725152137536: TensorSpec(shape=(), dtype=tf.resource, name=None)\n",
            "  134725152137008: TensorSpec(shape=(), dtype=tf.resource, name=None)\n",
            "  134725152143168: TensorSpec(shape=(), dtype=tf.resource, name=None)\n",
            "  134725152137184: TensorSpec(shape=(), dtype=tf.resource, name=None)\n",
            "  134725152141056: TensorSpec(shape=(), dtype=tf.resource, name=None)\n",
            "  134725152136832: TensorSpec(shape=(), dtype=tf.resource, name=None)\n",
            "  134725152138416: TensorSpec(shape=(), dtype=tf.resource, name=None)\n",
            "  134725152213296: TensorSpec(shape=(), dtype=tf.resource, name=None)\n",
            "  134725152212416: TensorSpec(shape=(), dtype=tf.resource, name=None)\n",
            "  134725152212240: TensorSpec(shape=(), dtype=tf.resource, name=None)\n",
            "  134725152212592: TensorSpec(shape=(), dtype=tf.resource, name=None)\n",
            "  134725152219456: TensorSpec(shape=(), dtype=tf.resource, name=None)\n",
            "  134725152218928: TensorSpec(shape=(), dtype=tf.resource, name=None)\n",
            "  134725152219104: TensorSpec(shape=(), dtype=tf.resource, name=None)\n",
            "  134725152222976: TensorSpec(shape=(), dtype=tf.resource, name=None)\n",
            "  134725152218752: TensorSpec(shape=(), dtype=tf.resource, name=None)\n",
            "  134725152220336: TensorSpec(shape=(), dtype=tf.resource, name=None)\n",
            "  134725152226672: TensorSpec(shape=(), dtype=tf.resource, name=None)\n",
            "  134725152226144: TensorSpec(shape=(), dtype=tf.resource, name=None)\n",
            "  134725152346832: TensorSpec(shape=(), dtype=tf.resource, name=None)\n",
            "  134725152345248: TensorSpec(shape=(), dtype=tf.resource, name=None)\n",
            "  134725152345600: TensorSpec(shape=(), dtype=tf.resource, name=None)\n",
            "  134725152343488: TensorSpec(shape=(), dtype=tf.resource, name=None)\n",
            "  134725152344368: TensorSpec(shape=(), dtype=tf.resource, name=None)\n",
            "  134725152348944: TensorSpec(shape=(), dtype=tf.resource, name=None)\n",
            "  134725152352640: TensorSpec(shape=(), dtype=tf.resource, name=None)\n",
            "  134725152350704: TensorSpec(shape=(), dtype=tf.resource, name=None)\n",
            "  134725152351408: TensorSpec(shape=(), dtype=tf.resource, name=None)\n",
            "  134725152357744: TensorSpec(shape=(), dtype=tf.resource, name=None)\n",
            "  134725152357216: TensorSpec(shape=(), dtype=tf.resource, name=None)\n",
            "  134725152410784: TensorSpec(shape=(), dtype=tf.resource, name=None)\n",
            "  134725152411136: TensorSpec(shape=(), dtype=tf.resource, name=None)\n",
            "  134725152409024: TensorSpec(shape=(), dtype=tf.resource, name=None)\n",
            "  134725152409904: TensorSpec(shape=(), dtype=tf.resource, name=None)\n",
            "  134725152415360: TensorSpec(shape=(), dtype=tf.resource, name=None)\n",
            "  134725152414832: TensorSpec(shape=(), dtype=tf.resource, name=None)\n",
            "  134725152420112: TensorSpec(shape=(), dtype=tf.resource, name=None)\n",
            "  134725152415008: TensorSpec(shape=(), dtype=tf.resource, name=None)\n",
            "  134725152418880: TensorSpec(shape=(), dtype=tf.resource, name=None)\n",
            "  134725152414656: TensorSpec(shape=(), dtype=tf.resource, name=None)\n",
            "  134725152416240: TensorSpec(shape=(), dtype=tf.resource, name=None)\n",
            "  134725152474736: TensorSpec(shape=(), dtype=tf.resource, name=None)\n",
            "  134725152422576: TensorSpec(shape=(), dtype=tf.resource, name=None)\n",
            "  134725152423632: TensorSpec(shape=(), dtype=tf.resource, name=None)\n",
            "  134725152474032: TensorSpec(shape=(), dtype=tf.resource, name=None)\n",
            "  134725152480896: TensorSpec(shape=(), dtype=tf.resource, name=None)\n",
            "  134725152480368: TensorSpec(shape=(), dtype=tf.resource, name=None)\n",
            "  134725152480544: TensorSpec(shape=(), dtype=tf.resource, name=None)\n",
            "  134725152484416: TensorSpec(shape=(), dtype=tf.resource, name=None)\n",
            "  134725152480192: TensorSpec(shape=(), dtype=tf.resource, name=None)\n",
            "  134725152481776: TensorSpec(shape=(), dtype=tf.resource, name=None)\n",
            "  134725152488112: TensorSpec(shape=(), dtype=tf.resource, name=None)\n",
            "  134725152487232: TensorSpec(shape=(), dtype=tf.resource, name=None)\n",
            "  134725152573920: TensorSpec(shape=(), dtype=tf.resource, name=None)\n",
            "  134725152573216: TensorSpec(shape=(), dtype=tf.resource, name=None)\n",
            "  134725152571456: TensorSpec(shape=(), dtype=tf.resource, name=None)\n",
            "  134725152571808: TensorSpec(shape=(), dtype=tf.resource, name=None)\n",
            "  134725152578496: TensorSpec(shape=(), dtype=tf.resource, name=None)\n",
            "  134725152577968: TensorSpec(shape=(), dtype=tf.resource, name=None)\n",
            "  134725152578144: TensorSpec(shape=(), dtype=tf.resource, name=None)\n",
            "  134725152582016: TensorSpec(shape=(), dtype=tf.resource, name=None)\n",
            "  134725152577792: TensorSpec(shape=(), dtype=tf.resource, name=None)\n",
            "  134725152579376: TensorSpec(shape=(), dtype=tf.resource, name=None)\n",
            "  134725152587120: TensorSpec(shape=(), dtype=tf.resource, name=None)\n",
            "  134725152586592: TensorSpec(shape=(), dtype=tf.resource, name=None)\n",
            "  134725152623776: TensorSpec(shape=(), dtype=tf.resource, name=None)\n",
            "  134725152624128: TensorSpec(shape=(), dtype=tf.resource, name=None)\n",
            "  134725152622016: TensorSpec(shape=(), dtype=tf.resource, name=None)\n",
            "  134725152622896: TensorSpec(shape=(), dtype=tf.resource, name=None)\n",
            "  134725152628352: TensorSpec(shape=(), dtype=tf.resource, name=None)\n",
            "  134725152627824: TensorSpec(shape=(), dtype=tf.resource, name=None)\n",
            "  134725152628000: TensorSpec(shape=(), dtype=tf.resource, name=None)\n",
            "  134725152631872: TensorSpec(shape=(), dtype=tf.resource, name=None)\n",
            "  134725152627648: TensorSpec(shape=(), dtype=tf.resource, name=None)\n",
            "  134725152629232: TensorSpec(shape=(), dtype=tf.resource, name=None)\n",
            "  134725152635568: TensorSpec(shape=(), dtype=tf.resource, name=None)\n",
            "  134725152634688: TensorSpec(shape=(), dtype=tf.resource, name=None)\n",
            "  134725152721376: TensorSpec(shape=(), dtype=tf.resource, name=None)\n",
            "  134725152720672: TensorSpec(shape=(), dtype=tf.resource, name=None)\n",
            "  134725152718912: TensorSpec(shape=(), dtype=tf.resource, name=None)\n",
            "  134725152719264: TensorSpec(shape=(), dtype=tf.resource, name=None)\n",
            "  134725152727360: TensorSpec(shape=(), dtype=tf.resource, name=None)\n",
            "  134725152726832: TensorSpec(shape=(), dtype=tf.resource, name=None)\n",
            "  134725152727008: TensorSpec(shape=(), dtype=tf.resource, name=None)\n",
            "  134725152730880: TensorSpec(shape=(), dtype=tf.resource, name=None)\n",
            "  134725152726656: TensorSpec(shape=(), dtype=tf.resource, name=None)\n",
            "  134725152728240: TensorSpec(shape=(), dtype=tf.resource, name=None)\n",
            "  134725152734576: TensorSpec(shape=(), dtype=tf.resource, name=None)\n",
            "  134725152734048: TensorSpec(shape=(), dtype=tf.resource, name=None)\n",
            "  134725150739616: TensorSpec(shape=(), dtype=tf.resource, name=None)\n",
            "  134725150739968: TensorSpec(shape=(), dtype=tf.resource, name=None)\n",
            "  134725150737856: TensorSpec(shape=(), dtype=tf.resource, name=None)\n",
            "  134725150738736: TensorSpec(shape=(), dtype=tf.resource, name=None)\n",
            "  134725150744192: TensorSpec(shape=(), dtype=tf.resource, name=None)\n",
            "  134725150743664: TensorSpec(shape=(), dtype=tf.resource, name=None)\n",
            "  134725150743840: TensorSpec(shape=(), dtype=tf.resource, name=None)\n",
            "  134725150747712: TensorSpec(shape=(), dtype=tf.resource, name=None)\n",
            "  134725150743488: TensorSpec(shape=(), dtype=tf.resource, name=None)\n",
            "  134725150745072: TensorSpec(shape=(), dtype=tf.resource, name=None)\n",
            "  134725150742784: TensorSpec(shape=(), dtype=tf.resource, name=None)\n",
            "  134725150750176: TensorSpec(shape=(), dtype=tf.resource, name=None)\n",
            "  134725150821712: TensorSpec(shape=(), dtype=tf.resource, name=None)\n",
            "  134725150822592: TensorSpec(shape=(), dtype=tf.resource, name=None)\n",
            "  134725150818720: TensorSpec(shape=(), dtype=tf.resource, name=None)\n",
            "  134725150821360: TensorSpec(shape=(), dtype=tf.resource, name=None)\n",
            "  134725150826816: TensorSpec(shape=(), dtype=tf.resource, name=None)\n",
            "  134725150826288: TensorSpec(shape=(), dtype=tf.resource, name=None)\n",
            "  134725150826464: TensorSpec(shape=(), dtype=tf.resource, name=None)\n",
            "  134725150830336: TensorSpec(shape=(), dtype=tf.resource, name=None)\n",
            "  134725150826112: TensorSpec(shape=(), dtype=tf.resource, name=None)\n",
            "  134725150827696: TensorSpec(shape=(), dtype=tf.resource, name=None)\n",
            "  134725150834032: TensorSpec(shape=(), dtype=tf.resource, name=None)\n",
            "  134725150833504: TensorSpec(shape=(), dtype=tf.resource, name=None)\n",
            "  134725150903456: TensorSpec(shape=(), dtype=tf.resource, name=None)\n",
            "  134725150903808: TensorSpec(shape=(), dtype=tf.resource, name=None)\n",
            "  134725150901696: TensorSpec(shape=(), dtype=tf.resource, name=None)\n",
            "  134725150902576: TensorSpec(shape=(), dtype=tf.resource, name=None)\n",
            "  134725150909440: TensorSpec(shape=(), dtype=tf.resource, name=None)\n",
            "  134725150908912: TensorSpec(shape=(), dtype=tf.resource, name=None)\n",
            "  134725150909088: TensorSpec(shape=(), dtype=tf.resource, name=None)\n",
            "  134725150912960: TensorSpec(shape=(), dtype=tf.resource, name=None)\n",
            "  134725150908736: TensorSpec(shape=(), dtype=tf.resource, name=None)\n",
            "  134725150910320: TensorSpec(shape=(), dtype=tf.resource, name=None)\n",
            "  134725150908032: TensorSpec(shape=(), dtype=tf.resource, name=None)\n",
            "  134725150914016: TensorSpec(shape=(), dtype=tf.resource, name=None)\n",
            "  134725150969168: TensorSpec(shape=(), dtype=tf.resource, name=None)\n",
            "  134725150970048: TensorSpec(shape=(), dtype=tf.resource, name=None)\n",
            "  134725150966176: TensorSpec(shape=(), dtype=tf.resource, name=None)\n",
            "  134725150968816: TensorSpec(shape=(), dtype=tf.resource, name=None)\n",
            "  134725150974272: TensorSpec(shape=(), dtype=tf.resource, name=None)\n",
            "  134725150973744: TensorSpec(shape=(), dtype=tf.resource, name=None)\n",
            "  134725150973920: TensorSpec(shape=(), dtype=tf.resource, name=None)\n",
            "  134725150977792: TensorSpec(shape=(), dtype=tf.resource, name=None)\n",
            "  134725150973568: TensorSpec(shape=(), dtype=tf.resource, name=None)\n",
            "  134725150975152: TensorSpec(shape=(), dtype=tf.resource, name=None)\n",
            "  134725150972864: TensorSpec(shape=(), dtype=tf.resource, name=None)\n",
            "  134725150980256: TensorSpec(shape=(), dtype=tf.resource, name=None)\n",
            "  134725151032240: TensorSpec(shape=(), dtype=tf.resource, name=None)\n",
            "  134725151036288: TensorSpec(shape=(), dtype=tf.resource, name=None)\n",
            "  134725151032064: TensorSpec(shape=(), dtype=tf.resource, name=None)\n",
            "  134725151033648: TensorSpec(shape=(), dtype=tf.resource, name=None)\n",
            "  134725151040512: TensorSpec(shape=(), dtype=tf.resource, name=None)\n",
            "  134725151039984: TensorSpec(shape=(), dtype=tf.resource, name=None)\n",
            "  134725151040160: TensorSpec(shape=(), dtype=tf.resource, name=None)\n",
            "  134725151044032: TensorSpec(shape=(), dtype=tf.resource, name=None)\n",
            "  134725151039808: TensorSpec(shape=(), dtype=tf.resource, name=None)\n",
            "  134725151041392: TensorSpec(shape=(), dtype=tf.resource, name=None)\n",
            "  134725151039104: TensorSpec(shape=(), dtype=tf.resource, name=None)\n",
            "  134725151045088: TensorSpec(shape=(), dtype=tf.resource, name=None)\n",
            "  134725151133008: TensorSpec(shape=(), dtype=tf.resource, name=None)\n",
            "  134725151133888: TensorSpec(shape=(), dtype=tf.resource, name=None)\n",
            "  134725151130016: TensorSpec(shape=(), dtype=tf.resource, name=None)\n",
            "  134725151132656: TensorSpec(shape=(), dtype=tf.resource, name=None)\n",
            "  134725151139520: TensorSpec(shape=(), dtype=tf.resource, name=None)\n",
            "  134725151138992: TensorSpec(shape=(), dtype=tf.resource, name=None)\n",
            "  134725151139168: TensorSpec(shape=(), dtype=tf.resource, name=None)\n",
            "  134725151143040: TensorSpec(shape=(), dtype=tf.resource, name=None)\n",
            "  134725151138816: TensorSpec(shape=(), dtype=tf.resource, name=None)\n",
            "  134725151140400: TensorSpec(shape=(), dtype=tf.resource, name=None)\n",
            "  134725151138112: TensorSpec(shape=(), dtype=tf.resource, name=None)\n",
            "  134725151144096: TensorSpec(shape=(), dtype=tf.resource, name=None)\n",
            "  134725151228848: TensorSpec(shape=(), dtype=tf.resource, name=None)\n",
            "  134725151232896: TensorSpec(shape=(), dtype=tf.resource, name=None)\n",
            "  134725151228672: TensorSpec(shape=(), dtype=tf.resource, name=None)\n",
            "  134725151230256: TensorSpec(shape=(), dtype=tf.resource, name=None)\n",
            "  134725151237120: TensorSpec(shape=(), dtype=tf.resource, name=None)\n",
            "  134725151236592: TensorSpec(shape=(), dtype=tf.resource, name=None)\n",
            "  134725151236768: TensorSpec(shape=(), dtype=tf.resource, name=None)\n",
            "  134725151240640: TensorSpec(shape=(), dtype=tf.resource, name=None)\n",
            "  134725151236416: TensorSpec(shape=(), dtype=tf.resource, name=None)\n",
            "  134725151238000: TensorSpec(shape=(), dtype=tf.resource, name=None)\n",
            "  134725151235712: TensorSpec(shape=(), dtype=tf.resource, name=None)\n",
            "  134725151197312: TensorSpec(shape=(), dtype=tf.resource, name=None)\n",
            "  134725151196784: TensorSpec(shape=(), dtype=tf.resource, name=None)\n",
            "  134725151200832: TensorSpec(shape=(), dtype=tf.resource, name=None)\n",
            "  134725151196608: TensorSpec(shape=(), dtype=tf.resource, name=None)\n",
            "  134725151198192: TensorSpec(shape=(), dtype=tf.resource, name=None)\n",
            "  134725151205056: TensorSpec(shape=(), dtype=tf.resource, name=None)\n",
            "  134725151204528: TensorSpec(shape=(), dtype=tf.resource, name=None)\n",
            "  134725151204704: TensorSpec(shape=(), dtype=tf.resource, name=None)\n",
            "  134725151208576: TensorSpec(shape=(), dtype=tf.resource, name=None)\n",
            "  134725151204352: TensorSpec(shape=(), dtype=tf.resource, name=None)\n",
            "  134725151205936: TensorSpec(shape=(), dtype=tf.resource, name=None)\n",
            "  134725151203648: TensorSpec(shape=(), dtype=tf.resource, name=None)\n",
            "  134725151209632: TensorSpec(shape=(), dtype=tf.resource, name=None)\n",
            "  134725151409072: TensorSpec(shape=(), dtype=tf.resource, name=None)\n",
            "  134725151413120: TensorSpec(shape=(), dtype=tf.resource, name=None)\n",
            "  134725151408896: TensorSpec(shape=(), dtype=tf.resource, name=None)\n",
            "  134725151410480: TensorSpec(shape=(), dtype=tf.resource, name=None)\n",
            "  134725151418752: TensorSpec(shape=(), dtype=tf.resource, name=None)\n",
            "  134725151418224: TensorSpec(shape=(), dtype=tf.resource, name=None)\n",
            "  134725151418400: TensorSpec(shape=(), dtype=tf.resource, name=None)\n",
            "  134725151422272: TensorSpec(shape=(), dtype=tf.resource, name=None)\n",
            "  134725151418048: TensorSpec(shape=(), dtype=tf.resource, name=None)\n",
            "  134725151419632: TensorSpec(shape=(), dtype=tf.resource, name=None)\n",
            "  134725151417344: TensorSpec(shape=(), dtype=tf.resource, name=None)\n",
            "  134725151426688: TensorSpec(shape=(), dtype=tf.resource, name=None)\n",
            "  134725151431440: TensorSpec(shape=(), dtype=tf.resource, name=None)\n",
            "  134725151426160: TensorSpec(shape=(), dtype=tf.resource, name=None)\n",
            "  134725151430208: TensorSpec(shape=(), dtype=tf.resource, name=None)\n",
            "  134725151425984: TensorSpec(shape=(), dtype=tf.resource, name=None)\n",
            "  134725151427568: TensorSpec(shape=(), dtype=tf.resource, name=None)\n",
            "  134725151433552: TensorSpec(shape=(), dtype=tf.resource, name=None)\n",
            "  134725151437248: TensorSpec(shape=(), dtype=tf.resource, name=None)\n",
            "  134725151435312: TensorSpec(shape=(), dtype=tf.resource, name=None)\n",
            "  134725151436016: TensorSpec(shape=(), dtype=tf.resource, name=None)\n",
            "  134725151434080: TensorSpec(shape=(), dtype=tf.resource, name=None)\n",
            "  134725151438304: TensorSpec(shape=(), dtype=tf.resource, name=None)\n",
            "  134725151591760: TensorSpec(shape=(), dtype=tf.resource, name=None)\n",
            "  134725151592640: TensorSpec(shape=(), dtype=tf.resource, name=None)\n",
            "  134725151588768: TensorSpec(shape=(), dtype=tf.resource, name=None)\n",
            "  134725151591408: TensorSpec(shape=(), dtype=tf.resource, name=None)\n",
            "  134725151596864: TensorSpec(shape=(), dtype=tf.resource, name=None)\n",
            "  134725151596336: TensorSpec(shape=(), dtype=tf.resource, name=None)\n",
            "  134725151596512: TensorSpec(shape=(), dtype=tf.resource, name=None)\n",
            "  134725151600384: TensorSpec(shape=(), dtype=tf.resource, name=None)\n",
            "  134725151596160: TensorSpec(shape=(), dtype=tf.resource, name=None)\n",
            "  134725151597744: TensorSpec(shape=(), dtype=tf.resource, name=None)\n",
            "  134729784074736: TensorSpec(shape=(), dtype=tf.resource, name=None)\n",
            "  134725151680192: TensorSpec(shape=(), dtype=tf.resource, name=None)\n",
            "  134725151684064: TensorSpec(shape=(), dtype=tf.resource, name=None)\n",
            "  134725151683712: TensorSpec(shape=(), dtype=tf.resource, name=None)\n"
          ]
        }
      ]
    }
  ],
  "metadata": {
    "accelerator": "GPU",
    "colab": {
      "gpuType": "A100",
      "provenance": [],
      "machine_shape": "hm",
      "authorship_tag": "ABX9TyPGYxKWQqnFOCzbJ5MqhOv5",
      "include_colab_link": true
    },
    "kernelspec": {
      "display_name": "Python 3",
      "name": "python3"
    },
    "language_info": {
      "name": "python"
    }
  },
  "nbformat": 4,
  "nbformat_minor": 0
}